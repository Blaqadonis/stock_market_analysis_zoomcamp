{
  "nbformat": 4,
  "nbformat_minor": 0,
  "metadata": {
    "colab": {
      "provenance": [],
      "collapsed_sections": [
        "hJXE0oYGvWZx",
        "ZuxsO0wyV_7-",
        "OMfJuMMm4zPW",
        "kfOo5nelaZHM",
        "mByOOusz6Xlw",
        "Oybj1DKqvdFW",
        "8o49sFJy8aFc",
        "7ks4Garj2LMN",
        "Hqt20Zxu9nwH",
        "eVwrvtWGfw58",
        "v3nFf7BGhOtS",
        "Ve8s9G9lhcx3",
        "xBG6qQE_lMAF",
        "XjGq5BZFmT-E"
      ]
    },
    "kernelspec": {
      "name": "python3",
      "display_name": "Python 3"
    },
    "language_info": {
      "name": "python"
    }
  },
  "cells": [
    {
      "cell_type": "markdown",
      "source": [
        "# **Module 1 Homework**\n",
        "In this homework, we're going to download finance data from various sources and make simple calculations/analysis.\n",
        "\n"
      ],
      "metadata": {
        "id": "RM6kISPX4DpT"
      }
    },
    {
      "cell_type": "markdown",
      "source": [
        "### **Question 1:** [Macro] Average growth of GDP in 2023\n",
        "What is the average growth (in %) of GDP in 2023?\n",
        "\n",
        "Download the timeseries Real Gross Domestic Product (GDPC1) from FRED (https://fred.stlouisfed.org/series/GDPC1). Calculate year-over-year (YoY) growth rate (that is, divide current value to one 4 quarters ago). Find the average YoY growth in 2023 (average from 4 YoY numbers). Round to 1 digit after the decimal point: e.g. if you get 5.66% growth => you should answer 5.7"
      ],
      "metadata": {
        "id": "hJXE0oYGvWZx"
      }
    },
    {
      "cell_type": "markdown",
      "source": [
        "#### *Answer*:"
      ],
      "metadata": {
        "id": "ZuxsO0wyV_7-"
      }
    },
    {
      "cell_type": "markdown",
      "source": [
        "To calculate the average growth of GDP in 2023, I'll follow these steps:\n",
        "\n",
        "1. Download the Real Gross Domestic Product (GDPC1) timeseries data from FRED.\n",
        "2. Calculate the year-over-year (YoY) growth rate for each quarter in 2023.\n",
        "3. Find the average YoY growth rate for 2023."
      ],
      "metadata": {
        "id": "JZxMk5pqWDsX"
      }
    },
    {
      "cell_type": "code",
      "execution_count": 116,
      "metadata": {
        "id": "MTLhjyvu0Iai"
      },
      "outputs": [],
      "source": [
        "import pandas_datareader as pdr"
      ]
    },
    {
      "cell_type": "code",
      "source": [
        "# Download GDPC1 from FRED\n",
        "gdpc = pdr.DataReader(\"GDPC1\", \"fred\", start=\"2022-01-01\")"
      ],
      "metadata": {
        "id": "FGwogWyiWj0o"
      },
      "execution_count": 132,
      "outputs": []
    },
    {
      "cell_type": "code",
      "source": [
        "gdpc['gdpc_us_yoy'] = (gdpc[\"GDPC1\"]/gdpc[\"GDPC1\"].shift(4)-1) * 100\n",
        "gdpc.tail()"
      ],
      "metadata": {
        "colab": {
          "base_uri": "https://localhost:8080/",
          "height": 237
        },
        "id": "46bvqo6Aql2L",
        "outputId": "e6c2364f-f925-405a-8800-29cfb5cc409a"
      },
      "execution_count": 138,
      "outputs": [
        {
          "output_type": "execute_result",
          "data": {
            "text/plain": [
              "                GDPC1  gdpc_us_yoy\n",
              "DATE                              \n",
              "2022-10-01  21989.981          NaN\n",
              "2023-01-01  22112.329     1.717927\n",
              "2023-04-01  22225.350     2.382468\n",
              "2023-07-01  22490.692     2.926887\n",
              "2023-10-01  22679.255     3.134491"
            ],
            "text/html": [
              "\n",
              "  <div id=\"df-807d0124-5525-4196-8a43-6af35ae85777\" class=\"colab-df-container\">\n",
              "    <div>\n",
              "<style scoped>\n",
              "    .dataframe tbody tr th:only-of-type {\n",
              "        vertical-align: middle;\n",
              "    }\n",
              "\n",
              "    .dataframe tbody tr th {\n",
              "        vertical-align: top;\n",
              "    }\n",
              "\n",
              "    .dataframe thead th {\n",
              "        text-align: right;\n",
              "    }\n",
              "</style>\n",
              "<table border=\"1\" class=\"dataframe\">\n",
              "  <thead>\n",
              "    <tr style=\"text-align: right;\">\n",
              "      <th></th>\n",
              "      <th>GDPC1</th>\n",
              "      <th>gdpc_us_yoy</th>\n",
              "    </tr>\n",
              "    <tr>\n",
              "      <th>DATE</th>\n",
              "      <th></th>\n",
              "      <th></th>\n",
              "    </tr>\n",
              "  </thead>\n",
              "  <tbody>\n",
              "    <tr>\n",
              "      <th>2022-10-01</th>\n",
              "      <td>21989.981</td>\n",
              "      <td>NaN</td>\n",
              "    </tr>\n",
              "    <tr>\n",
              "      <th>2023-01-01</th>\n",
              "      <td>22112.329</td>\n",
              "      <td>1.717927</td>\n",
              "    </tr>\n",
              "    <tr>\n",
              "      <th>2023-04-01</th>\n",
              "      <td>22225.350</td>\n",
              "      <td>2.382468</td>\n",
              "    </tr>\n",
              "    <tr>\n",
              "      <th>2023-07-01</th>\n",
              "      <td>22490.692</td>\n",
              "      <td>2.926887</td>\n",
              "    </tr>\n",
              "    <tr>\n",
              "      <th>2023-10-01</th>\n",
              "      <td>22679.255</td>\n",
              "      <td>3.134491</td>\n",
              "    </tr>\n",
              "  </tbody>\n",
              "</table>\n",
              "</div>\n",
              "    <div class=\"colab-df-buttons\">\n",
              "\n",
              "  <div class=\"colab-df-container\">\n",
              "    <button class=\"colab-df-convert\" onclick=\"convertToInteractive('df-807d0124-5525-4196-8a43-6af35ae85777')\"\n",
              "            title=\"Convert this dataframe to an interactive table.\"\n",
              "            style=\"display:none;\">\n",
              "\n",
              "  <svg xmlns=\"http://www.w3.org/2000/svg\" height=\"24px\" viewBox=\"0 -960 960 960\">\n",
              "    <path d=\"M120-120v-720h720v720H120Zm60-500h600v-160H180v160Zm220 220h160v-160H400v160Zm0 220h160v-160H400v160ZM180-400h160v-160H180v160Zm440 0h160v-160H620v160ZM180-180h160v-160H180v160Zm440 0h160v-160H620v160Z\"/>\n",
              "  </svg>\n",
              "    </button>\n",
              "\n",
              "  <style>\n",
              "    .colab-df-container {\n",
              "      display:flex;\n",
              "      gap: 12px;\n",
              "    }\n",
              "\n",
              "    .colab-df-convert {\n",
              "      background-color: #E8F0FE;\n",
              "      border: none;\n",
              "      border-radius: 50%;\n",
              "      cursor: pointer;\n",
              "      display: none;\n",
              "      fill: #1967D2;\n",
              "      height: 32px;\n",
              "      padding: 0 0 0 0;\n",
              "      width: 32px;\n",
              "    }\n",
              "\n",
              "    .colab-df-convert:hover {\n",
              "      background-color: #E2EBFA;\n",
              "      box-shadow: 0px 1px 2px rgba(60, 64, 67, 0.3), 0px 1px 3px 1px rgba(60, 64, 67, 0.15);\n",
              "      fill: #174EA6;\n",
              "    }\n",
              "\n",
              "    .colab-df-buttons div {\n",
              "      margin-bottom: 4px;\n",
              "    }\n",
              "\n",
              "    [theme=dark] .colab-df-convert {\n",
              "      background-color: #3B4455;\n",
              "      fill: #D2E3FC;\n",
              "    }\n",
              "\n",
              "    [theme=dark] .colab-df-convert:hover {\n",
              "      background-color: #434B5C;\n",
              "      box-shadow: 0px 1px 3px 1px rgba(0, 0, 0, 0.15);\n",
              "      filter: drop-shadow(0px 1px 2px rgba(0, 0, 0, 0.3));\n",
              "      fill: #FFFFFF;\n",
              "    }\n",
              "  </style>\n",
              "\n",
              "    <script>\n",
              "      const buttonEl =\n",
              "        document.querySelector('#df-807d0124-5525-4196-8a43-6af35ae85777 button.colab-df-convert');\n",
              "      buttonEl.style.display =\n",
              "        google.colab.kernel.accessAllowed ? 'block' : 'none';\n",
              "\n",
              "      async function convertToInteractive(key) {\n",
              "        const element = document.querySelector('#df-807d0124-5525-4196-8a43-6af35ae85777');\n",
              "        const dataTable =\n",
              "          await google.colab.kernel.invokeFunction('convertToInteractive',\n",
              "                                                    [key], {});\n",
              "        if (!dataTable) return;\n",
              "\n",
              "        const docLinkHtml = 'Like what you see? Visit the ' +\n",
              "          '<a target=\"_blank\" href=https://colab.research.google.com/notebooks/data_table.ipynb>data table notebook</a>'\n",
              "          + ' to learn more about interactive tables.';\n",
              "        element.innerHTML = '';\n",
              "        dataTable['output_type'] = 'display_data';\n",
              "        await google.colab.output.renderOutput(dataTable, element);\n",
              "        const docLink = document.createElement('div');\n",
              "        docLink.innerHTML = docLinkHtml;\n",
              "        element.appendChild(docLink);\n",
              "      }\n",
              "    </script>\n",
              "  </div>\n",
              "\n",
              "\n",
              "<div id=\"df-cb47cf32-1cc0-4d1b-a60f-5b1f8bc07a09\">\n",
              "  <button class=\"colab-df-quickchart\" onclick=\"quickchart('df-cb47cf32-1cc0-4d1b-a60f-5b1f8bc07a09')\"\n",
              "            title=\"Suggest charts\"\n",
              "            style=\"display:none;\">\n",
              "\n",
              "<svg xmlns=\"http://www.w3.org/2000/svg\" height=\"24px\"viewBox=\"0 0 24 24\"\n",
              "     width=\"24px\">\n",
              "    <g>\n",
              "        <path d=\"M19 3H5c-1.1 0-2 .9-2 2v14c0 1.1.9 2 2 2h14c1.1 0 2-.9 2-2V5c0-1.1-.9-2-2-2zM9 17H7v-7h2v7zm4 0h-2V7h2v10zm4 0h-2v-4h2v4z\"/>\n",
              "    </g>\n",
              "</svg>\n",
              "  </button>\n",
              "\n",
              "<style>\n",
              "  .colab-df-quickchart {\n",
              "      --bg-color: #E8F0FE;\n",
              "      --fill-color: #1967D2;\n",
              "      --hover-bg-color: #E2EBFA;\n",
              "      --hover-fill-color: #174EA6;\n",
              "      --disabled-fill-color: #AAA;\n",
              "      --disabled-bg-color: #DDD;\n",
              "  }\n",
              "\n",
              "  [theme=dark] .colab-df-quickchart {\n",
              "      --bg-color: #3B4455;\n",
              "      --fill-color: #D2E3FC;\n",
              "      --hover-bg-color: #434B5C;\n",
              "      --hover-fill-color: #FFFFFF;\n",
              "      --disabled-bg-color: #3B4455;\n",
              "      --disabled-fill-color: #666;\n",
              "  }\n",
              "\n",
              "  .colab-df-quickchart {\n",
              "    background-color: var(--bg-color);\n",
              "    border: none;\n",
              "    border-radius: 50%;\n",
              "    cursor: pointer;\n",
              "    display: none;\n",
              "    fill: var(--fill-color);\n",
              "    height: 32px;\n",
              "    padding: 0;\n",
              "    width: 32px;\n",
              "  }\n",
              "\n",
              "  .colab-df-quickchart:hover {\n",
              "    background-color: var(--hover-bg-color);\n",
              "    box-shadow: 0 1px 2px rgba(60, 64, 67, 0.3), 0 1px 3px 1px rgba(60, 64, 67, 0.15);\n",
              "    fill: var(--button-hover-fill-color);\n",
              "  }\n",
              "\n",
              "  .colab-df-quickchart-complete:disabled,\n",
              "  .colab-df-quickchart-complete:disabled:hover {\n",
              "    background-color: var(--disabled-bg-color);\n",
              "    fill: var(--disabled-fill-color);\n",
              "    box-shadow: none;\n",
              "  }\n",
              "\n",
              "  .colab-df-spinner {\n",
              "    border: 2px solid var(--fill-color);\n",
              "    border-color: transparent;\n",
              "    border-bottom-color: var(--fill-color);\n",
              "    animation:\n",
              "      spin 1s steps(1) infinite;\n",
              "  }\n",
              "\n",
              "  @keyframes spin {\n",
              "    0% {\n",
              "      border-color: transparent;\n",
              "      border-bottom-color: var(--fill-color);\n",
              "      border-left-color: var(--fill-color);\n",
              "    }\n",
              "    20% {\n",
              "      border-color: transparent;\n",
              "      border-left-color: var(--fill-color);\n",
              "      border-top-color: var(--fill-color);\n",
              "    }\n",
              "    30% {\n",
              "      border-color: transparent;\n",
              "      border-left-color: var(--fill-color);\n",
              "      border-top-color: var(--fill-color);\n",
              "      border-right-color: var(--fill-color);\n",
              "    }\n",
              "    40% {\n",
              "      border-color: transparent;\n",
              "      border-right-color: var(--fill-color);\n",
              "      border-top-color: var(--fill-color);\n",
              "    }\n",
              "    60% {\n",
              "      border-color: transparent;\n",
              "      border-right-color: var(--fill-color);\n",
              "    }\n",
              "    80% {\n",
              "      border-color: transparent;\n",
              "      border-right-color: var(--fill-color);\n",
              "      border-bottom-color: var(--fill-color);\n",
              "    }\n",
              "    90% {\n",
              "      border-color: transparent;\n",
              "      border-bottom-color: var(--fill-color);\n",
              "    }\n",
              "  }\n",
              "</style>\n",
              "\n",
              "  <script>\n",
              "    async function quickchart(key) {\n",
              "      const quickchartButtonEl =\n",
              "        document.querySelector('#' + key + ' button');\n",
              "      quickchartButtonEl.disabled = true;  // To prevent multiple clicks.\n",
              "      quickchartButtonEl.classList.add('colab-df-spinner');\n",
              "      try {\n",
              "        const charts = await google.colab.kernel.invokeFunction(\n",
              "            'suggestCharts', [key], {});\n",
              "      } catch (error) {\n",
              "        console.error('Error during call to suggestCharts:', error);\n",
              "      }\n",
              "      quickchartButtonEl.classList.remove('colab-df-spinner');\n",
              "      quickchartButtonEl.classList.add('colab-df-quickchart-complete');\n",
              "    }\n",
              "    (() => {\n",
              "      let quickchartButtonEl =\n",
              "        document.querySelector('#df-cb47cf32-1cc0-4d1b-a60f-5b1f8bc07a09 button');\n",
              "      quickchartButtonEl.style.display =\n",
              "        google.colab.kernel.accessAllowed ? 'block' : 'none';\n",
              "    })();\n",
              "  </script>\n",
              "</div>\n",
              "\n",
              "    </div>\n",
              "  </div>\n"
            ],
            "application/vnd.google.colaboratory.intrinsic+json": {
              "type": "dataframe",
              "summary": "{\n  \"name\": \"gdpc\",\n  \"rows\": 5,\n  \"fields\": [\n    {\n      \"column\": \"DATE\",\n      \"properties\": {\n        \"dtype\": \"date\",\n        \"min\": \"2022-10-01 00:00:00\",\n        \"max\": \"2023-10-01 00:00:00\",\n        \"num_unique_values\": 5,\n        \"samples\": [\n          \"2023-01-01 00:00:00\",\n          \"2023-10-01 00:00:00\",\n          \"2023-04-01 00:00:00\"\n        ],\n        \"semantic_type\": \"\",\n        \"description\": \"\"\n      }\n    },\n    {\n      \"column\": \"GDPC1\",\n      \"properties\": {\n        \"dtype\": \"number\",\n        \"std\": 281.55881077547554,\n        \"min\": 21989.981,\n        \"max\": 22679.255,\n        \"num_unique_values\": 5,\n        \"samples\": [\n          22112.329,\n          22679.255,\n          22225.35\n        ],\n        \"semantic_type\": \"\",\n        \"description\": \"\"\n      }\n    },\n    {\n      \"column\": \"gdpc_us_yoy\",\n      \"properties\": {\n        \"dtype\": \"number\",\n        \"std\": 0.6334351446296713,\n        \"min\": 1.7179273017444263,\n        \"max\": 3.1344911121114816,\n        \"num_unique_values\": 4,\n        \"samples\": [\n          2.3824681594386554,\n          3.1344911121114816,\n          1.7179273017444263\n        ],\n        \"semantic_type\": \"\",\n        \"description\": \"\"\n      }\n    }\n  ]\n}"
            }
          },
          "metadata": {},
          "execution_count": 138
        }
      ]
    },
    {
      "cell_type": "code",
      "source": [
        "gdpc_2023 = gdpc.loc[\"2023\"]"
      ],
      "metadata": {
        "id": "k9M6u8gzMJHn"
      },
      "execution_count": 139,
      "outputs": []
    },
    {
      "cell_type": "code",
      "source": [
        "# Average YoY growth rate for 2023\n",
        "average_growth_2023 = gdpc_2023['gdpc_us_yoy'].mean()"
      ],
      "metadata": {
        "id": "N0DMo283rjPf"
      },
      "execution_count": 140,
      "outputs": []
    },
    {
      "cell_type": "code",
      "source": [
        "print(f\"The average growth of GDP in 2023 was {round(average_growth_2023,1)}%\")"
      ],
      "metadata": {
        "colab": {
          "base_uri": "https://localhost:8080/"
        },
        "id": "dlyYUoWCXrlf",
        "outputId": "a225d227-2736-43f8-ae37-cd7cdd4467b7"
      },
      "execution_count": 141,
      "outputs": [
        {
          "output_type": "stream",
          "name": "stdout",
          "text": [
            "The average growth of GDP in 2023 was 2.5%\n"
          ]
        }
      ]
    },
    {
      "cell_type": "markdown",
      "source": [
        "### **Question 2**. [Macro] Inverse \"Treasury Yield\"\n",
        "Find the min value of (dgs10-dgs2) after since year 2000 (2000-01-01) and write it down as an answer, round to 1 digit after the decimal point.\n",
        "\n",
        "Download DGS2 and DGS10 interest rates series (https://fred.stlouisfed.org/series/DGS2, https://fred.stlouisfed.org/series/DGS10). Join them together to one dataframe on date (you might need to read about pandas.DataFrame.join()), calculate the difference dgs10-dgs2 daily.\n",
        "\n",
        "(Additional: think about what does the \"inverted yield curve\" mean for the market and investors? do you see the same thing in your country/market of interest? Do you think it can be a good predictive feature for the models?)"
      ],
      "metadata": {
        "id": "OMfJuMMm4zPW"
      }
    },
    {
      "cell_type": "markdown",
      "source": [
        "#### *Answer*"
      ],
      "metadata": {
        "id": "kfOo5nelaZHM"
      }
    },
    {
      "cell_type": "code",
      "source": [
        "# Download DGS2 and DGS10 interest rates series\n",
        "dgs2 = pdr.DataReader(\"DGS2\", \"fred\", start=\"2000-01-01\")\n",
        "dgs10 = pdr.DataReader(\"DGS10\", \"fred\", start=\"2000-01-01\")"
      ],
      "metadata": {
        "id": "DCWzJERTaJQq"
      },
      "execution_count": 10,
      "outputs": []
    },
    {
      "cell_type": "code",
      "source": [
        "# Join the two dataframes on date\n",
        "interest_rates = dgs10.join(dgs2, lsuffix=\"_10\", rsuffix=\"_2\")"
      ],
      "metadata": {
        "id": "FW19fOY5aLeS"
      },
      "execution_count": 11,
      "outputs": []
    },
    {
      "cell_type": "code",
      "source": [
        "# Calculate the difference (dgs10 - dgs2) daily\n",
        "interest_rates['difference'] = interest_rates['DGS10'] - interest_rates['DGS2']"
      ],
      "metadata": {
        "id": "CeLwrS1laOqn"
      },
      "execution_count": 12,
      "outputs": []
    },
    {
      "cell_type": "code",
      "source": [
        "# Find the min value of the difference since year 2000\n",
        "min_value = interest_rates['difference'].min()"
      ],
      "metadata": {
        "id": "98cHTxikaRKw"
      },
      "execution_count": 13,
      "outputs": []
    },
    {
      "cell_type": "code",
      "source": [
        "# Round to 1 decimal place\n",
        "min_value_rounded = round(min_value, 1)\n",
        "\n",
        "print(f\"The minimum value of (DGS10 - DGS2) since year 2000 is {min_value_rounded}%.\")"
      ],
      "metadata": {
        "colab": {
          "base_uri": "https://localhost:8080/"
        },
        "id": "Zx_e2qH2aV2B",
        "outputId": "2f5e7ac5-7183-46ae-c5c6-8d8356eb74d9"
      },
      "execution_count": 14,
      "outputs": [
        {
          "output_type": "stream",
          "name": "stdout",
          "text": [
            "The minimum value of (DGS10 - DGS2) since year 2000 is -1.1%.\n"
          ]
        }
      ]
    },
    {
      "cell_type": "markdown",
      "source": [
        "### **Question 3.** [Index] Which Index is better recently?\n",
        "Compare S&P 500 and IPC Mexico indexes by the 5 year growth and write down the largest value as an answer (%)\n",
        "\n",
        "Download on Yahoo Finance two daily index prices for S&P 500 (^GSPC, https://finance.yahoo.com/quote/%5EGSPC/) and IPC Mexico (^MXX, https://finance.yahoo.com/quote/%5EMXX/). Compare 5Y growth for both (between 2019-04-09 and 2024-04-09). Select the higher growing index and write down the growth in % (closest integer %). E.g. if ratio end/start was 2.0925 (or growth of 109.25%), you need to write down 109 as your answer.\n",
        "\n",
        "(Additional: think of other indexes and try to download stats and compare the growth? Do create 10Y and 20Y growth stats. What is an average yearly growth rate (CAGR) for each of the indexes you select?)"
      ],
      "metadata": {
        "id": "mByOOusz6Xlw"
      }
    },
    {
      "cell_type": "markdown",
      "source": [
        "#### *Answer*"
      ],
      "metadata": {
        "id": "Oybj1DKqvdFW"
      }
    },
    {
      "cell_type": "code",
      "source": [
        "!pip install -qU yfinance"
      ],
      "metadata": {
        "id": "crSuFOTQa8bb"
      },
      "execution_count": 15,
      "outputs": []
    },
    {
      "cell_type": "code",
      "source": [
        "import yfinance as yf\n",
        "\n",
        "# Define the start and end dates for the comparison\n",
        "start_date = \"2019-04-16\"\n",
        "end_date = \"2024-04-16\""
      ],
      "metadata": {
        "id": "hYp4SZkubNdf"
      },
      "execution_count": 16,
      "outputs": []
    },
    {
      "cell_type": "code",
      "source": [
        "# Download daily index prices for S&P 500 and IPC Mexico indexes\n",
        "sp500_data = yf.download(\"^GSPC\", start=start_date, end=end_date)\n",
        "ipc_data = yf.download(\"^MXX\", start=start_date, end=end_date)"
      ],
      "metadata": {
        "colab": {
          "base_uri": "https://localhost:8080/"
        },
        "id": "EiPYYF90bQRJ",
        "outputId": "1419f3f6-dd41-4142-e92a-d86ebe9f29dc"
      },
      "execution_count": 23,
      "outputs": [
        {
          "output_type": "stream",
          "name": "stderr",
          "text": [
            "[*********************100%%**********************]  1 of 1 completed\n",
            "[*********************100%%**********************]  1 of 1 completed\n"
          ]
        }
      ]
    },
    {
      "cell_type": "code",
      "source": [
        "# Calculate the 5-year growth for each index\n",
        "sp500_start_price = sp500_data.iloc[0]\n",
        "sp500_end_price = sp500_data.iloc[-1]\n",
        "sp500_growth = ((sp500_end_price / sp500_start_price) - 1) * 100\n",
        "\n",
        "ipc_start_price = ipc_data.iloc[0]\n",
        "ipc_end_price = ipc_data.iloc[-1]\n",
        "ipc_growth = ((ipc_end_price / ipc_start_price) - 1) * 100\n"
      ],
      "metadata": {
        "id": "iC942XcybWmm"
      },
      "execution_count": 24,
      "outputs": []
    },
    {
      "cell_type": "code",
      "source": [
        "# Determine which index had the higher growth\n",
        "if sp500_growth[\"High\"] > ipc_growth[\"High\"]:\n",
        "    higher_growth_index = \"S&P 500\"\n",
        "    growth_percent = round(sp500_growth[\"High\"])\n",
        "else:\n",
        "    higher_growth_index = \"IPC Mexico\"\n",
        "    growth_percent = round(ipc_growth[\"High\"])\n",
        "\n",
        "print(f\"The index with the higher growth in the last 5 years is {higher_growth_index} with an index of {growth_percent}%.\")\n"
      ],
      "metadata": {
        "colab": {
          "base_uri": "https://localhost:8080/"
        },
        "id": "II1YLL8nayxX",
        "outputId": "30c5f2e8-a62d-44ca-96d1-602e55164363"
      },
      "execution_count": 142,
      "outputs": [
        {
          "output_type": "stream",
          "name": "stdout",
          "text": [
            "The index with the higher growth in the last 5 years is S&P 500 with an index of 77%.\n"
          ]
        }
      ]
    },
    {
      "cell_type": "markdown",
      "source": [
        "Let me explore **S&P 500** and **NASDAQ** Composite:"
      ],
      "metadata": {
        "id": "zUOMpK3wwAfQ"
      }
    },
    {
      "cell_type": "code",
      "source": [
        "import pandas as pd\n",
        "\n",
        "\n",
        "# Define the indexes\n",
        "indexes = [\"^GSPC\", \"^IXIC\"]\n",
        "\n",
        "# Download historical data for the indexes\n",
        "index_data = yf.download(indexes, start=start_date, end=end_date)\n",
        "index_data.tail()"
      ],
      "metadata": {
        "colab": {
          "base_uri": "https://localhost:8080/",
          "height": 286
        },
        "id": "tUX6XlquwfKe",
        "outputId": "05f2e767-55d5-475c-d4f7-d580e9b205c8"
      },
      "execution_count": 27,
      "outputs": [
        {
          "output_type": "stream",
          "name": "stderr",
          "text": [
            "[*********************100%%**********************]  2 of 2 completed\n"
          ]
        },
        {
          "output_type": "execute_result",
          "data": {
            "text/plain": [
              "Price         Adj Close                      Close                       High  \\\n",
              "Ticker            ^GSPC         ^IXIC        ^GSPC         ^IXIC        ^GSPC   \n",
              "Date                                                                            \n",
              "2024-04-09  5209.910156  16306.639648  5209.910156  16306.639648  5224.810059   \n",
              "2024-04-10  5160.640137  16170.360352  5160.640137  16170.360352  5178.430176   \n",
              "2024-04-11  5199.060059  16442.199219  5199.060059  16442.199219  5211.779785   \n",
              "2024-04-12  5123.410156  16175.089844  5123.410156  16175.089844  5175.029785   \n",
              "2024-04-15  5061.819824  15885.019531  5061.819824  15885.019531  5168.430176   \n",
              "\n",
              "Price                             Low                       Open  \\\n",
              "Ticker             ^IXIC        ^GSPC         ^IXIC        ^GSPC   \n",
              "Date                                                               \n",
              "2024-04-09  16348.179688  5160.779785  16141.150391  5217.029785   \n",
              "2024-04-10  16200.099609  5138.700195  16092.019531  5167.879883   \n",
              "2024-04-11  16464.599609  5138.770020  16154.650391  5172.950195   \n",
              "2024-04-12  16341.459961  5107.939941  16125.330078  5171.509766   \n",
              "2024-04-15  16295.269531  5052.470215  15863.879883  5149.669922   \n",
              "\n",
              "Price                         Volume              \n",
              "Ticker             ^IXIC       ^GSPC       ^IXIC  \n",
              "Date                                              \n",
              "2024-04-09  16328.759766  3400680000  4869190000  \n",
              "2024-04-10  16104.009766  3845930000  5308250000  \n",
              "2024-04-11  16236.200195  3509380000  4714750000  \n",
              "2024-04-12  16293.030273  3963220000  4552740000  \n",
              "2024-04-15  16276.469727  3950210000  4910550000  "
            ],
            "text/html": [
              "\n",
              "  <div id=\"df-24895c17-cacd-47a3-8a19-3f3ca97abaf1\" class=\"colab-df-container\">\n",
              "    <div>\n",
              "<style scoped>\n",
              "    .dataframe tbody tr th:only-of-type {\n",
              "        vertical-align: middle;\n",
              "    }\n",
              "\n",
              "    .dataframe tbody tr th {\n",
              "        vertical-align: top;\n",
              "    }\n",
              "\n",
              "    .dataframe thead tr th {\n",
              "        text-align: left;\n",
              "    }\n",
              "\n",
              "    .dataframe thead tr:last-of-type th {\n",
              "        text-align: right;\n",
              "    }\n",
              "</style>\n",
              "<table border=\"1\" class=\"dataframe\">\n",
              "  <thead>\n",
              "    <tr>\n",
              "      <th>Price</th>\n",
              "      <th colspan=\"2\" halign=\"left\">Adj Close</th>\n",
              "      <th colspan=\"2\" halign=\"left\">Close</th>\n",
              "      <th colspan=\"2\" halign=\"left\">High</th>\n",
              "      <th colspan=\"2\" halign=\"left\">Low</th>\n",
              "      <th colspan=\"2\" halign=\"left\">Open</th>\n",
              "      <th colspan=\"2\" halign=\"left\">Volume</th>\n",
              "    </tr>\n",
              "    <tr>\n",
              "      <th>Ticker</th>\n",
              "      <th>^GSPC</th>\n",
              "      <th>^IXIC</th>\n",
              "      <th>^GSPC</th>\n",
              "      <th>^IXIC</th>\n",
              "      <th>^GSPC</th>\n",
              "      <th>^IXIC</th>\n",
              "      <th>^GSPC</th>\n",
              "      <th>^IXIC</th>\n",
              "      <th>^GSPC</th>\n",
              "      <th>^IXIC</th>\n",
              "      <th>^GSPC</th>\n",
              "      <th>^IXIC</th>\n",
              "    </tr>\n",
              "    <tr>\n",
              "      <th>Date</th>\n",
              "      <th></th>\n",
              "      <th></th>\n",
              "      <th></th>\n",
              "      <th></th>\n",
              "      <th></th>\n",
              "      <th></th>\n",
              "      <th></th>\n",
              "      <th></th>\n",
              "      <th></th>\n",
              "      <th></th>\n",
              "      <th></th>\n",
              "      <th></th>\n",
              "    </tr>\n",
              "  </thead>\n",
              "  <tbody>\n",
              "    <tr>\n",
              "      <th>2024-04-09</th>\n",
              "      <td>5209.910156</td>\n",
              "      <td>16306.639648</td>\n",
              "      <td>5209.910156</td>\n",
              "      <td>16306.639648</td>\n",
              "      <td>5224.810059</td>\n",
              "      <td>16348.179688</td>\n",
              "      <td>5160.779785</td>\n",
              "      <td>16141.150391</td>\n",
              "      <td>5217.029785</td>\n",
              "      <td>16328.759766</td>\n",
              "      <td>3400680000</td>\n",
              "      <td>4869190000</td>\n",
              "    </tr>\n",
              "    <tr>\n",
              "      <th>2024-04-10</th>\n",
              "      <td>5160.640137</td>\n",
              "      <td>16170.360352</td>\n",
              "      <td>5160.640137</td>\n",
              "      <td>16170.360352</td>\n",
              "      <td>5178.430176</td>\n",
              "      <td>16200.099609</td>\n",
              "      <td>5138.700195</td>\n",
              "      <td>16092.019531</td>\n",
              "      <td>5167.879883</td>\n",
              "      <td>16104.009766</td>\n",
              "      <td>3845930000</td>\n",
              "      <td>5308250000</td>\n",
              "    </tr>\n",
              "    <tr>\n",
              "      <th>2024-04-11</th>\n",
              "      <td>5199.060059</td>\n",
              "      <td>16442.199219</td>\n",
              "      <td>5199.060059</td>\n",
              "      <td>16442.199219</td>\n",
              "      <td>5211.779785</td>\n",
              "      <td>16464.599609</td>\n",
              "      <td>5138.770020</td>\n",
              "      <td>16154.650391</td>\n",
              "      <td>5172.950195</td>\n",
              "      <td>16236.200195</td>\n",
              "      <td>3509380000</td>\n",
              "      <td>4714750000</td>\n",
              "    </tr>\n",
              "    <tr>\n",
              "      <th>2024-04-12</th>\n",
              "      <td>5123.410156</td>\n",
              "      <td>16175.089844</td>\n",
              "      <td>5123.410156</td>\n",
              "      <td>16175.089844</td>\n",
              "      <td>5175.029785</td>\n",
              "      <td>16341.459961</td>\n",
              "      <td>5107.939941</td>\n",
              "      <td>16125.330078</td>\n",
              "      <td>5171.509766</td>\n",
              "      <td>16293.030273</td>\n",
              "      <td>3963220000</td>\n",
              "      <td>4552740000</td>\n",
              "    </tr>\n",
              "    <tr>\n",
              "      <th>2024-04-15</th>\n",
              "      <td>5061.819824</td>\n",
              "      <td>15885.019531</td>\n",
              "      <td>5061.819824</td>\n",
              "      <td>15885.019531</td>\n",
              "      <td>5168.430176</td>\n",
              "      <td>16295.269531</td>\n",
              "      <td>5052.470215</td>\n",
              "      <td>15863.879883</td>\n",
              "      <td>5149.669922</td>\n",
              "      <td>16276.469727</td>\n",
              "      <td>3950210000</td>\n",
              "      <td>4910550000</td>\n",
              "    </tr>\n",
              "  </tbody>\n",
              "</table>\n",
              "</div>\n",
              "    <div class=\"colab-df-buttons\">\n",
              "\n",
              "  <div class=\"colab-df-container\">\n",
              "    <button class=\"colab-df-convert\" onclick=\"convertToInteractive('df-24895c17-cacd-47a3-8a19-3f3ca97abaf1')\"\n",
              "            title=\"Convert this dataframe to an interactive table.\"\n",
              "            style=\"display:none;\">\n",
              "\n",
              "  <svg xmlns=\"http://www.w3.org/2000/svg\" height=\"24px\" viewBox=\"0 -960 960 960\">\n",
              "    <path d=\"M120-120v-720h720v720H120Zm60-500h600v-160H180v160Zm220 220h160v-160H400v160Zm0 220h160v-160H400v160ZM180-400h160v-160H180v160Zm440 0h160v-160H620v160ZM180-180h160v-160H180v160Zm440 0h160v-160H620v160Z\"/>\n",
              "  </svg>\n",
              "    </button>\n",
              "\n",
              "  <style>\n",
              "    .colab-df-container {\n",
              "      display:flex;\n",
              "      gap: 12px;\n",
              "    }\n",
              "\n",
              "    .colab-df-convert {\n",
              "      background-color: #E8F0FE;\n",
              "      border: none;\n",
              "      border-radius: 50%;\n",
              "      cursor: pointer;\n",
              "      display: none;\n",
              "      fill: #1967D2;\n",
              "      height: 32px;\n",
              "      padding: 0 0 0 0;\n",
              "      width: 32px;\n",
              "    }\n",
              "\n",
              "    .colab-df-convert:hover {\n",
              "      background-color: #E2EBFA;\n",
              "      box-shadow: 0px 1px 2px rgba(60, 64, 67, 0.3), 0px 1px 3px 1px rgba(60, 64, 67, 0.15);\n",
              "      fill: #174EA6;\n",
              "    }\n",
              "\n",
              "    .colab-df-buttons div {\n",
              "      margin-bottom: 4px;\n",
              "    }\n",
              "\n",
              "    [theme=dark] .colab-df-convert {\n",
              "      background-color: #3B4455;\n",
              "      fill: #D2E3FC;\n",
              "    }\n",
              "\n",
              "    [theme=dark] .colab-df-convert:hover {\n",
              "      background-color: #434B5C;\n",
              "      box-shadow: 0px 1px 3px 1px rgba(0, 0, 0, 0.15);\n",
              "      filter: drop-shadow(0px 1px 2px rgba(0, 0, 0, 0.3));\n",
              "      fill: #FFFFFF;\n",
              "    }\n",
              "  </style>\n",
              "\n",
              "    <script>\n",
              "      const buttonEl =\n",
              "        document.querySelector('#df-24895c17-cacd-47a3-8a19-3f3ca97abaf1 button.colab-df-convert');\n",
              "      buttonEl.style.display =\n",
              "        google.colab.kernel.accessAllowed ? 'block' : 'none';\n",
              "\n",
              "      async function convertToInteractive(key) {\n",
              "        const element = document.querySelector('#df-24895c17-cacd-47a3-8a19-3f3ca97abaf1');\n",
              "        const dataTable =\n",
              "          await google.colab.kernel.invokeFunction('convertToInteractive',\n",
              "                                                    [key], {});\n",
              "        if (!dataTable) return;\n",
              "\n",
              "        const docLinkHtml = 'Like what you see? Visit the ' +\n",
              "          '<a target=\"_blank\" href=https://colab.research.google.com/notebooks/data_table.ipynb>data table notebook</a>'\n",
              "          + ' to learn more about interactive tables.';\n",
              "        element.innerHTML = '';\n",
              "        dataTable['output_type'] = 'display_data';\n",
              "        await google.colab.output.renderOutput(dataTable, element);\n",
              "        const docLink = document.createElement('div');\n",
              "        docLink.innerHTML = docLinkHtml;\n",
              "        element.appendChild(docLink);\n",
              "      }\n",
              "    </script>\n",
              "  </div>\n",
              "\n",
              "\n",
              "<div id=\"df-c2037805-017d-4e51-a6c9-f2547da54a23\">\n",
              "  <button class=\"colab-df-quickchart\" onclick=\"quickchart('df-c2037805-017d-4e51-a6c9-f2547da54a23')\"\n",
              "            title=\"Suggest charts\"\n",
              "            style=\"display:none;\">\n",
              "\n",
              "<svg xmlns=\"http://www.w3.org/2000/svg\" height=\"24px\"viewBox=\"0 0 24 24\"\n",
              "     width=\"24px\">\n",
              "    <g>\n",
              "        <path d=\"M19 3H5c-1.1 0-2 .9-2 2v14c0 1.1.9 2 2 2h14c1.1 0 2-.9 2-2V5c0-1.1-.9-2-2-2zM9 17H7v-7h2v7zm4 0h-2V7h2v10zm4 0h-2v-4h2v4z\"/>\n",
              "    </g>\n",
              "</svg>\n",
              "  </button>\n",
              "\n",
              "<style>\n",
              "  .colab-df-quickchart {\n",
              "      --bg-color: #E8F0FE;\n",
              "      --fill-color: #1967D2;\n",
              "      --hover-bg-color: #E2EBFA;\n",
              "      --hover-fill-color: #174EA6;\n",
              "      --disabled-fill-color: #AAA;\n",
              "      --disabled-bg-color: #DDD;\n",
              "  }\n",
              "\n",
              "  [theme=dark] .colab-df-quickchart {\n",
              "      --bg-color: #3B4455;\n",
              "      --fill-color: #D2E3FC;\n",
              "      --hover-bg-color: #434B5C;\n",
              "      --hover-fill-color: #FFFFFF;\n",
              "      --disabled-bg-color: #3B4455;\n",
              "      --disabled-fill-color: #666;\n",
              "  }\n",
              "\n",
              "  .colab-df-quickchart {\n",
              "    background-color: var(--bg-color);\n",
              "    border: none;\n",
              "    border-radius: 50%;\n",
              "    cursor: pointer;\n",
              "    display: none;\n",
              "    fill: var(--fill-color);\n",
              "    height: 32px;\n",
              "    padding: 0;\n",
              "    width: 32px;\n",
              "  }\n",
              "\n",
              "  .colab-df-quickchart:hover {\n",
              "    background-color: var(--hover-bg-color);\n",
              "    box-shadow: 0 1px 2px rgba(60, 64, 67, 0.3), 0 1px 3px 1px rgba(60, 64, 67, 0.15);\n",
              "    fill: var(--button-hover-fill-color);\n",
              "  }\n",
              "\n",
              "  .colab-df-quickchart-complete:disabled,\n",
              "  .colab-df-quickchart-complete:disabled:hover {\n",
              "    background-color: var(--disabled-bg-color);\n",
              "    fill: var(--disabled-fill-color);\n",
              "    box-shadow: none;\n",
              "  }\n",
              "\n",
              "  .colab-df-spinner {\n",
              "    border: 2px solid var(--fill-color);\n",
              "    border-color: transparent;\n",
              "    border-bottom-color: var(--fill-color);\n",
              "    animation:\n",
              "      spin 1s steps(1) infinite;\n",
              "  }\n",
              "\n",
              "  @keyframes spin {\n",
              "    0% {\n",
              "      border-color: transparent;\n",
              "      border-bottom-color: var(--fill-color);\n",
              "      border-left-color: var(--fill-color);\n",
              "    }\n",
              "    20% {\n",
              "      border-color: transparent;\n",
              "      border-left-color: var(--fill-color);\n",
              "      border-top-color: var(--fill-color);\n",
              "    }\n",
              "    30% {\n",
              "      border-color: transparent;\n",
              "      border-left-color: var(--fill-color);\n",
              "      border-top-color: var(--fill-color);\n",
              "      border-right-color: var(--fill-color);\n",
              "    }\n",
              "    40% {\n",
              "      border-color: transparent;\n",
              "      border-right-color: var(--fill-color);\n",
              "      border-top-color: var(--fill-color);\n",
              "    }\n",
              "    60% {\n",
              "      border-color: transparent;\n",
              "      border-right-color: var(--fill-color);\n",
              "    }\n",
              "    80% {\n",
              "      border-color: transparent;\n",
              "      border-right-color: var(--fill-color);\n",
              "      border-bottom-color: var(--fill-color);\n",
              "    }\n",
              "    90% {\n",
              "      border-color: transparent;\n",
              "      border-bottom-color: var(--fill-color);\n",
              "    }\n",
              "  }\n",
              "</style>\n",
              "\n",
              "  <script>\n",
              "    async function quickchart(key) {\n",
              "      const quickchartButtonEl =\n",
              "        document.querySelector('#' + key + ' button');\n",
              "      quickchartButtonEl.disabled = true;  // To prevent multiple clicks.\n",
              "      quickchartButtonEl.classList.add('colab-df-spinner');\n",
              "      try {\n",
              "        const charts = await google.colab.kernel.invokeFunction(\n",
              "            'suggestCharts', [key], {});\n",
              "      } catch (error) {\n",
              "        console.error('Error during call to suggestCharts:', error);\n",
              "      }\n",
              "      quickchartButtonEl.classList.remove('colab-df-spinner');\n",
              "      quickchartButtonEl.classList.add('colab-df-quickchart-complete');\n",
              "    }\n",
              "    (() => {\n",
              "      let quickchartButtonEl =\n",
              "        document.querySelector('#df-c2037805-017d-4e51-a6c9-f2547da54a23 button');\n",
              "      quickchartButtonEl.style.display =\n",
              "        google.colab.kernel.accessAllowed ? 'block' : 'none';\n",
              "    })();\n",
              "  </script>\n",
              "</div>\n",
              "\n",
              "    </div>\n",
              "  </div>\n"
            ],
            "application/vnd.google.colaboratory.intrinsic+json": {
              "type": "dataframe",
              "summary": "{\n  \"name\": \"index_data\",\n  \"rows\": 5,\n  \"fields\": [\n    {\n      \"column\": [\n        \"Date\",\n        \"\"\n      ],\n      \"properties\": {\n        \"dtype\": \"date\",\n        \"min\": \"2024-04-09 00:00:00\",\n        \"max\": \"2024-04-15 00:00:00\",\n        \"num_unique_values\": 5,\n        \"samples\": [\n          \"2024-04-10 00:00:00\",\n          \"2024-04-15 00:00:00\",\n          \"2024-04-11 00:00:00\"\n        ],\n        \"semantic_type\": \"\",\n        \"description\": \"\"\n      }\n    },\n    {\n      \"column\": [\n        \"Adj Close\",\n        \"^GSPC\"\n      ],\n      \"properties\": {\n        \"dtype\": \"number\",\n        \"std\": 60.38916730081295,\n        \"min\": 5061.81982421875,\n        \"max\": 5209.91015625,\n        \"num_unique_values\": 5,\n        \"samples\": [\n          5160.64013671875,\n          5061.81982421875,\n          5199.06005859375\n        ],\n        \"semantic_type\": \"\",\n        \"description\": \"\"\n      }\n    },\n    {\n      \"column\": [\n        \"Adj Close\",\n        \"^IXIC\"\n      ],\n      \"properties\": {\n        \"dtype\": \"number\",\n        \"std\": 206.5542118072948,\n        \"min\": 15885.01953125,\n        \"max\": 16442.19921875,\n        \"num_unique_values\": 5,\n        \"samples\": [\n          16170.3603515625,\n          15885.01953125,\n          16442.19921875\n        ],\n        \"semantic_type\": \"\",\n        \"description\": \"\"\n      }\n    },\n    {\n      \"column\": [\n        \"Close\",\n        \"^GSPC\"\n      ],\n      \"properties\": {\n        \"dtype\": \"number\",\n        \"std\": 60.38916730081295,\n        \"min\": 5061.81982421875,\n        \"max\": 5209.91015625,\n        \"num_unique_values\": 5,\n        \"samples\": [\n          5160.64013671875,\n          5061.81982421875,\n          5199.06005859375\n        ],\n        \"semantic_type\": \"\",\n        \"description\": \"\"\n      }\n    },\n    {\n      \"column\": [\n        \"Close\",\n        \"^IXIC\"\n      ],\n      \"properties\": {\n        \"dtype\": \"number\",\n        \"std\": 206.5542118072948,\n        \"min\": 15885.01953125,\n        \"max\": 16442.19921875,\n        \"num_unique_values\": 5,\n        \"samples\": [\n          16170.3603515625,\n          15885.01953125,\n          16442.19921875\n        ],\n        \"semantic_type\": \"\",\n        \"description\": \"\"\n      }\n    },\n    {\n      \"column\": [\n        \"High\",\n        \"^GSPC\"\n      ],\n      \"properties\": {\n        \"dtype\": \"number\",\n        \"std\": 24.974700642606415,\n        \"min\": 5168.43017578125,\n        \"max\": 5224.81005859375,\n        \"num_unique_values\": 5,\n        \"samples\": [\n          5178.43017578125,\n          5168.43017578125,\n          5211.77978515625\n        ],\n        \"semantic_type\": \"\",\n        \"description\": \"\"\n      }\n    },\n    {\n      \"column\": [\n        \"High\",\n        \"^IXIC\"\n      ],\n      \"properties\": {\n        \"dtype\": \"number\",\n        \"std\": 95.73292649338946,\n        \"min\": 16200.099609375,\n        \"max\": 16464.599609375,\n        \"num_unique_values\": 5,\n        \"samples\": [\n          16200.099609375,\n          16295.26953125,\n          16464.599609375\n        ],\n        \"semantic_type\": \"\",\n        \"description\": \"\"\n      }\n    },\n    {\n      \"column\": [\n        \"Low\",\n        \"^GSPC\"\n      ],\n      \"properties\": {\n        \"dtype\": \"number\",\n        \"std\": 42.04271540825516,\n        \"min\": 5052.47021484375,\n        \"max\": 5160.77978515625,\n        \"num_unique_values\": 5,\n        \"samples\": [\n          5138.7001953125,\n          5052.47021484375,\n          5138.77001953125\n        ],\n        \"semantic_type\": \"\",\n        \"description\": \"\"\n      }\n    },\n    {\n      \"column\": [\n        \"Low\",\n        \"^IXIC\"\n      ],\n      \"properties\": {\n        \"dtype\": \"number\",\n        \"std\": 120.5339367085169,\n        \"min\": 15863.8798828125,\n        \"max\": 16154.650390625,\n        \"num_unique_values\": 5,\n        \"samples\": [\n          16092.01953125,\n          15863.8798828125,\n          16154.650390625\n        ],\n        \"semantic_type\": \"\",\n        \"description\": \"\"\n      }\n    },\n    {\n      \"column\": [\n        \"Open\",\n        \"^GSPC\"\n      ],\n      \"properties\": {\n        \"dtype\": \"number\",\n        \"std\": 24.85926189576703,\n        \"min\": 5149.669921875,\n        \"max\": 5217.02978515625,\n        \"num_unique_values\": 5,\n        \"samples\": [\n          5167.8798828125,\n          5149.669921875,\n          5172.9501953125\n        ],\n        \"semantic_type\": \"\",\n        \"description\": \"\"\n      }\n    },\n    {\n      \"column\": [\n        \"Open\",\n        \"^IXIC\"\n      ],\n      \"properties\": {\n        \"dtype\": \"number\",\n        \"std\": 86.9372550160119,\n        \"min\": 16104.009765625,\n        \"max\": 16328.759765625,\n        \"num_unique_values\": 5,\n        \"samples\": [\n          16104.009765625,\n          16276.4697265625,\n          16236.2001953125\n        ],\n        \"semantic_type\": \"\",\n        \"description\": \"\"\n      }\n    },\n    {\n      \"column\": [\n        \"Volume\",\n        \"^GSPC\"\n      ],\n      \"properties\": {\n        \"dtype\": \"number\",\n        \"std\": 261425513,\n        \"min\": 3400680000,\n        \"max\": 3963220000,\n        \"num_unique_values\": 5,\n        \"samples\": [\n          3845930000,\n          3950210000,\n          3509380000\n        ],\n        \"semantic_type\": \"\",\n        \"description\": \"\"\n      }\n    },\n    {\n      \"column\": [\n        \"Volume\",\n        \"^IXIC\"\n      ],\n      \"properties\": {\n        \"dtype\": \"number\",\n        \"std\": 282160630,\n        \"min\": 4552740000,\n        \"max\": 5308250000,\n        \"num_unique_values\": 5,\n        \"samples\": [\n          5308250000,\n          4910550000,\n          4714750000\n        ],\n        \"semantic_type\": \"\",\n        \"description\": \"\"\n      }\n    }\n  ]\n}"
            }
          },
          "metadata": {},
          "execution_count": 27
        }
      ]
    },
    {
      "cell_type": "code",
      "source": [
        "# Calculate yearly returns for each index\n",
        "yearly_returns = index_data['Adj Close'].resample('Y').ffill().pct_change()\n",
        "\n",
        "# Calculate CAGR for 10 years and 20 years\n",
        "years = [10, 20]\n",
        "cagr_results = {}\n",
        "\n",
        "for index in indexes:\n",
        "    cagr_values = []\n",
        "    for year in years:\n",
        "        # Calculate CAGR\n",
        "        start_value = index_data.loc[index_data.index[0], ('Adj Close', index)]\n",
        "        end_value = index_data.loc[index_data.index[-1], ('Adj Close', index)]\n",
        "        cagr = ((end_value / start_value) ** (1 / year) - 1) * 100\n",
        "        cagr_values.append(cagr)\n",
        "    cagr_results[index] = cagr_values\n",
        "\n",
        "# Create a DataFrame to display CAGR results\n",
        "cagr_df = pd.DataFrame(cagr_results, index=years)\n",
        "\n",
        "# Print the CAGR DataFrame\n",
        "print(\"CAGR (%) for S&P 500 and NASDAQ Composite over the past 10 and 20 years:\")\n",
        "print(cagr_df)\n"
      ],
      "metadata": {
        "colab": {
          "base_uri": "https://localhost:8080/"
        },
        "id": "FTgdN2Rfv7v8",
        "outputId": "3dfe5e83-83ea-4f95-8e0f-5396d713f645"
      },
      "execution_count": 28,
      "outputs": [
        {
          "output_type": "stream",
          "name": "stdout",
          "text": [
            "CAGR (%) for S&P 500 and NASDAQ Composite over the past 10 and 20 years:\n",
            "       ^GSPC     ^IXIC\n",
            "10  5.702502  7.099768\n",
            "20  2.811722  3.489018\n"
          ]
        }
      ]
    },
    {
      "cell_type": "markdown",
      "source": [
        "### **Question 4.** [Stocks OHLCV] 52-weeks range ratio (2023) for the selected stocks\n",
        "Find the largest range ratio [=(max-min)/max] of Adj.Close prices in 2023\n",
        "\n",
        "Download the 2023 daily OHLCV data on Yahoo Finance for top5 stocks on earnings (https://companiesmarketcap.com/most-profitable-companies/): 2222.SR,BRK-B, AAPL, MSFT, GOOG, JPM.\n",
        "\n",
        "Here is the example data you should see in Pandas for \"2222.SR\": https://finance.yahoo.com/quote/2222.SR/history\n",
        "\n",
        "Calculate maximum-minimim \"Adj.Close\" price for each stock and divide it by the maximum \"Adj.Close\" value. Round the result to two decimal places (e.g. 0.1575 will be 0.16)\n",
        "\n",
        "(Additional: why this may be important for your research?)"
      ],
      "metadata": {
        "id": "8o49sFJy8aFc"
      }
    },
    {
      "cell_type": "markdown",
      "source": [
        "#### *Answer*"
      ],
      "metadata": {
        "id": "7ks4Garj2LMN"
      }
    },
    {
      "cell_type": "code",
      "source": [
        "# Define the list of selected stocks\n",
        "stocks = ['2222.SR', 'BRK-B', 'AAPL', 'MSFT', 'GOOG', 'JPM']\n",
        "\n",
        "# Download the daily OHLCV data for each stock for the year 2023\n",
        "start_date = '2023-01-01'\n",
        "end_date = '2023-12-31'"
      ],
      "metadata": {
        "id": "Uu3wCDQlyEar"
      },
      "execution_count": 36,
      "outputs": []
    },
    {
      "cell_type": "code",
      "source": [
        "# Create an empty DataFrame to store the data for all stocks\n",
        "all_data = pd.DataFrame()\n",
        "\n",
        "for stock in stocks:\n",
        "    # Download data for each stock\n",
        "    data = yf.download(stock, start=start_date, end=end_date)\n",
        "    # Add a new column 'Stocks'\n",
        "    data['Stocks'] = stock\n",
        "    # Concatenate data to the all_data DataFrame\n",
        "    all_data = pd.concat([all_data, data])\n",
        "\n",
        "# Calculate the 52-weeks range ratio for each stock\n",
        "all_data['Range Ratio'] = (all_data['Adj Close'].max() - all_data['Adj Close'].min()) / all_data['Adj Close'].max()"
      ],
      "metadata": {
        "colab": {
          "base_uri": "https://localhost:8080/"
        },
        "id": "fF3VbZeB0Pfp",
        "outputId": "5cde36c0-5303-47e4-a42f-8415db7048c3"
      },
      "execution_count": 41,
      "outputs": [
        {
          "output_type": "stream",
          "name": "stderr",
          "text": [
            "[*********************100%%**********************]  1 of 1 completed\n",
            "[*********************100%%**********************]  1 of 1 completed\n",
            "[*********************100%%**********************]  1 of 1 completed\n",
            "[*********************100%%**********************]  1 of 1 completed\n",
            "[*********************100%%**********************]  1 of 1 completed\n",
            "[*********************100%%**********************]  1 of 1 completed\n"
          ]
        }
      ]
    },
    {
      "cell_type": "code",
      "source": [
        "all_data.tail()"
      ],
      "metadata": {
        "colab": {
          "base_uri": "https://localhost:8080/",
          "height": 237
        },
        "id": "RiLdkymN0DmX",
        "outputId": "ce1ba0ed-75d5-4e83-d6fd-932fff323128"
      },
      "execution_count": 42,
      "outputs": [
        {
          "output_type": "execute_result",
          "data": {
            "text/plain": [
              "                  Open        High         Low       Close   Adj Close  \\\n",
              "Date                                                                     \n",
              "2023-12-22  167.500000  168.229996  167.229996  167.399994  165.409210   \n",
              "2023-12-26  167.460007  168.770004  167.179993  168.389999  166.387451   \n",
              "2023-12-27  167.839996  169.470001  167.580002  169.399994  167.385437   \n",
              "2023-12-28  169.350006  170.660004  169.000000  170.300003  168.274750   \n",
              "2023-12-29  170.000000  170.690002  169.630005  170.100006  168.077133   \n",
              "\n",
              "             Volume Stocks  Range Ratio  \n",
              "Date                                     \n",
              "2023-12-22  6574900    JPM     0.928676  \n",
              "2023-12-26  4683600    JPM     0.928676  \n",
              "2023-12-27  6428600    JPM     0.928676  \n",
              "2023-12-28  6320100    JPM     0.928676  \n",
              "2023-12-29  6431800    JPM     0.928676  "
            ],
            "text/html": [
              "\n",
              "  <div id=\"df-61ca23ba-67a0-47cc-933f-1192a501d0ba\" class=\"colab-df-container\">\n",
              "    <div>\n",
              "<style scoped>\n",
              "    .dataframe tbody tr th:only-of-type {\n",
              "        vertical-align: middle;\n",
              "    }\n",
              "\n",
              "    .dataframe tbody tr th {\n",
              "        vertical-align: top;\n",
              "    }\n",
              "\n",
              "    .dataframe thead th {\n",
              "        text-align: right;\n",
              "    }\n",
              "</style>\n",
              "<table border=\"1\" class=\"dataframe\">\n",
              "  <thead>\n",
              "    <tr style=\"text-align: right;\">\n",
              "      <th></th>\n",
              "      <th>Open</th>\n",
              "      <th>High</th>\n",
              "      <th>Low</th>\n",
              "      <th>Close</th>\n",
              "      <th>Adj Close</th>\n",
              "      <th>Volume</th>\n",
              "      <th>Stocks</th>\n",
              "      <th>Range Ratio</th>\n",
              "    </tr>\n",
              "    <tr>\n",
              "      <th>Date</th>\n",
              "      <th></th>\n",
              "      <th></th>\n",
              "      <th></th>\n",
              "      <th></th>\n",
              "      <th></th>\n",
              "      <th></th>\n",
              "      <th></th>\n",
              "      <th></th>\n",
              "    </tr>\n",
              "  </thead>\n",
              "  <tbody>\n",
              "    <tr>\n",
              "      <th>2023-12-22</th>\n",
              "      <td>167.500000</td>\n",
              "      <td>168.229996</td>\n",
              "      <td>167.229996</td>\n",
              "      <td>167.399994</td>\n",
              "      <td>165.409210</td>\n",
              "      <td>6574900</td>\n",
              "      <td>JPM</td>\n",
              "      <td>0.928676</td>\n",
              "    </tr>\n",
              "    <tr>\n",
              "      <th>2023-12-26</th>\n",
              "      <td>167.460007</td>\n",
              "      <td>168.770004</td>\n",
              "      <td>167.179993</td>\n",
              "      <td>168.389999</td>\n",
              "      <td>166.387451</td>\n",
              "      <td>4683600</td>\n",
              "      <td>JPM</td>\n",
              "      <td>0.928676</td>\n",
              "    </tr>\n",
              "    <tr>\n",
              "      <th>2023-12-27</th>\n",
              "      <td>167.839996</td>\n",
              "      <td>169.470001</td>\n",
              "      <td>167.580002</td>\n",
              "      <td>169.399994</td>\n",
              "      <td>167.385437</td>\n",
              "      <td>6428600</td>\n",
              "      <td>JPM</td>\n",
              "      <td>0.928676</td>\n",
              "    </tr>\n",
              "    <tr>\n",
              "      <th>2023-12-28</th>\n",
              "      <td>169.350006</td>\n",
              "      <td>170.660004</td>\n",
              "      <td>169.000000</td>\n",
              "      <td>170.300003</td>\n",
              "      <td>168.274750</td>\n",
              "      <td>6320100</td>\n",
              "      <td>JPM</td>\n",
              "      <td>0.928676</td>\n",
              "    </tr>\n",
              "    <tr>\n",
              "      <th>2023-12-29</th>\n",
              "      <td>170.000000</td>\n",
              "      <td>170.690002</td>\n",
              "      <td>169.630005</td>\n",
              "      <td>170.100006</td>\n",
              "      <td>168.077133</td>\n",
              "      <td>6431800</td>\n",
              "      <td>JPM</td>\n",
              "      <td>0.928676</td>\n",
              "    </tr>\n",
              "  </tbody>\n",
              "</table>\n",
              "</div>\n",
              "    <div class=\"colab-df-buttons\">\n",
              "\n",
              "  <div class=\"colab-df-container\">\n",
              "    <button class=\"colab-df-convert\" onclick=\"convertToInteractive('df-61ca23ba-67a0-47cc-933f-1192a501d0ba')\"\n",
              "            title=\"Convert this dataframe to an interactive table.\"\n",
              "            style=\"display:none;\">\n",
              "\n",
              "  <svg xmlns=\"http://www.w3.org/2000/svg\" height=\"24px\" viewBox=\"0 -960 960 960\">\n",
              "    <path d=\"M120-120v-720h720v720H120Zm60-500h600v-160H180v160Zm220 220h160v-160H400v160Zm0 220h160v-160H400v160ZM180-400h160v-160H180v160Zm440 0h160v-160H620v160ZM180-180h160v-160H180v160Zm440 0h160v-160H620v160Z\"/>\n",
              "  </svg>\n",
              "    </button>\n",
              "\n",
              "  <style>\n",
              "    .colab-df-container {\n",
              "      display:flex;\n",
              "      gap: 12px;\n",
              "    }\n",
              "\n",
              "    .colab-df-convert {\n",
              "      background-color: #E8F0FE;\n",
              "      border: none;\n",
              "      border-radius: 50%;\n",
              "      cursor: pointer;\n",
              "      display: none;\n",
              "      fill: #1967D2;\n",
              "      height: 32px;\n",
              "      padding: 0 0 0 0;\n",
              "      width: 32px;\n",
              "    }\n",
              "\n",
              "    .colab-df-convert:hover {\n",
              "      background-color: #E2EBFA;\n",
              "      box-shadow: 0px 1px 2px rgba(60, 64, 67, 0.3), 0px 1px 3px 1px rgba(60, 64, 67, 0.15);\n",
              "      fill: #174EA6;\n",
              "    }\n",
              "\n",
              "    .colab-df-buttons div {\n",
              "      margin-bottom: 4px;\n",
              "    }\n",
              "\n",
              "    [theme=dark] .colab-df-convert {\n",
              "      background-color: #3B4455;\n",
              "      fill: #D2E3FC;\n",
              "    }\n",
              "\n",
              "    [theme=dark] .colab-df-convert:hover {\n",
              "      background-color: #434B5C;\n",
              "      box-shadow: 0px 1px 3px 1px rgba(0, 0, 0, 0.15);\n",
              "      filter: drop-shadow(0px 1px 2px rgba(0, 0, 0, 0.3));\n",
              "      fill: #FFFFFF;\n",
              "    }\n",
              "  </style>\n",
              "\n",
              "    <script>\n",
              "      const buttonEl =\n",
              "        document.querySelector('#df-61ca23ba-67a0-47cc-933f-1192a501d0ba button.colab-df-convert');\n",
              "      buttonEl.style.display =\n",
              "        google.colab.kernel.accessAllowed ? 'block' : 'none';\n",
              "\n",
              "      async function convertToInteractive(key) {\n",
              "        const element = document.querySelector('#df-61ca23ba-67a0-47cc-933f-1192a501d0ba');\n",
              "        const dataTable =\n",
              "          await google.colab.kernel.invokeFunction('convertToInteractive',\n",
              "                                                    [key], {});\n",
              "        if (!dataTable) return;\n",
              "\n",
              "        const docLinkHtml = 'Like what you see? Visit the ' +\n",
              "          '<a target=\"_blank\" href=https://colab.research.google.com/notebooks/data_table.ipynb>data table notebook</a>'\n",
              "          + ' to learn more about interactive tables.';\n",
              "        element.innerHTML = '';\n",
              "        dataTable['output_type'] = 'display_data';\n",
              "        await google.colab.output.renderOutput(dataTable, element);\n",
              "        const docLink = document.createElement('div');\n",
              "        docLink.innerHTML = docLinkHtml;\n",
              "        element.appendChild(docLink);\n",
              "      }\n",
              "    </script>\n",
              "  </div>\n",
              "\n",
              "\n",
              "<div id=\"df-67106a63-4169-428d-828c-c0078e467265\">\n",
              "  <button class=\"colab-df-quickchart\" onclick=\"quickchart('df-67106a63-4169-428d-828c-c0078e467265')\"\n",
              "            title=\"Suggest charts\"\n",
              "            style=\"display:none;\">\n",
              "\n",
              "<svg xmlns=\"http://www.w3.org/2000/svg\" height=\"24px\"viewBox=\"0 0 24 24\"\n",
              "     width=\"24px\">\n",
              "    <g>\n",
              "        <path d=\"M19 3H5c-1.1 0-2 .9-2 2v14c0 1.1.9 2 2 2h14c1.1 0 2-.9 2-2V5c0-1.1-.9-2-2-2zM9 17H7v-7h2v7zm4 0h-2V7h2v10zm4 0h-2v-4h2v4z\"/>\n",
              "    </g>\n",
              "</svg>\n",
              "  </button>\n",
              "\n",
              "<style>\n",
              "  .colab-df-quickchart {\n",
              "      --bg-color: #E8F0FE;\n",
              "      --fill-color: #1967D2;\n",
              "      --hover-bg-color: #E2EBFA;\n",
              "      --hover-fill-color: #174EA6;\n",
              "      --disabled-fill-color: #AAA;\n",
              "      --disabled-bg-color: #DDD;\n",
              "  }\n",
              "\n",
              "  [theme=dark] .colab-df-quickchart {\n",
              "      --bg-color: #3B4455;\n",
              "      --fill-color: #D2E3FC;\n",
              "      --hover-bg-color: #434B5C;\n",
              "      --hover-fill-color: #FFFFFF;\n",
              "      --disabled-bg-color: #3B4455;\n",
              "      --disabled-fill-color: #666;\n",
              "  }\n",
              "\n",
              "  .colab-df-quickchart {\n",
              "    background-color: var(--bg-color);\n",
              "    border: none;\n",
              "    border-radius: 50%;\n",
              "    cursor: pointer;\n",
              "    display: none;\n",
              "    fill: var(--fill-color);\n",
              "    height: 32px;\n",
              "    padding: 0;\n",
              "    width: 32px;\n",
              "  }\n",
              "\n",
              "  .colab-df-quickchart:hover {\n",
              "    background-color: var(--hover-bg-color);\n",
              "    box-shadow: 0 1px 2px rgba(60, 64, 67, 0.3), 0 1px 3px 1px rgba(60, 64, 67, 0.15);\n",
              "    fill: var(--button-hover-fill-color);\n",
              "  }\n",
              "\n",
              "  .colab-df-quickchart-complete:disabled,\n",
              "  .colab-df-quickchart-complete:disabled:hover {\n",
              "    background-color: var(--disabled-bg-color);\n",
              "    fill: var(--disabled-fill-color);\n",
              "    box-shadow: none;\n",
              "  }\n",
              "\n",
              "  .colab-df-spinner {\n",
              "    border: 2px solid var(--fill-color);\n",
              "    border-color: transparent;\n",
              "    border-bottom-color: var(--fill-color);\n",
              "    animation:\n",
              "      spin 1s steps(1) infinite;\n",
              "  }\n",
              "\n",
              "  @keyframes spin {\n",
              "    0% {\n",
              "      border-color: transparent;\n",
              "      border-bottom-color: var(--fill-color);\n",
              "      border-left-color: var(--fill-color);\n",
              "    }\n",
              "    20% {\n",
              "      border-color: transparent;\n",
              "      border-left-color: var(--fill-color);\n",
              "      border-top-color: var(--fill-color);\n",
              "    }\n",
              "    30% {\n",
              "      border-color: transparent;\n",
              "      border-left-color: var(--fill-color);\n",
              "      border-top-color: var(--fill-color);\n",
              "      border-right-color: var(--fill-color);\n",
              "    }\n",
              "    40% {\n",
              "      border-color: transparent;\n",
              "      border-right-color: var(--fill-color);\n",
              "      border-top-color: var(--fill-color);\n",
              "    }\n",
              "    60% {\n",
              "      border-color: transparent;\n",
              "      border-right-color: var(--fill-color);\n",
              "    }\n",
              "    80% {\n",
              "      border-color: transparent;\n",
              "      border-right-color: var(--fill-color);\n",
              "      border-bottom-color: var(--fill-color);\n",
              "    }\n",
              "    90% {\n",
              "      border-color: transparent;\n",
              "      border-bottom-color: var(--fill-color);\n",
              "    }\n",
              "  }\n",
              "</style>\n",
              "\n",
              "  <script>\n",
              "    async function quickchart(key) {\n",
              "      const quickchartButtonEl =\n",
              "        document.querySelector('#' + key + ' button');\n",
              "      quickchartButtonEl.disabled = true;  // To prevent multiple clicks.\n",
              "      quickchartButtonEl.classList.add('colab-df-spinner');\n",
              "      try {\n",
              "        const charts = await google.colab.kernel.invokeFunction(\n",
              "            'suggestCharts', [key], {});\n",
              "      } catch (error) {\n",
              "        console.error('Error during call to suggestCharts:', error);\n",
              "      }\n",
              "      quickchartButtonEl.classList.remove('colab-df-spinner');\n",
              "      quickchartButtonEl.classList.add('colab-df-quickchart-complete');\n",
              "    }\n",
              "    (() => {\n",
              "      let quickchartButtonEl =\n",
              "        document.querySelector('#df-67106a63-4169-428d-828c-c0078e467265 button');\n",
              "      quickchartButtonEl.style.display =\n",
              "        google.colab.kernel.accessAllowed ? 'block' : 'none';\n",
              "    })();\n",
              "  </script>\n",
              "</div>\n",
              "\n",
              "    </div>\n",
              "  </div>\n"
            ],
            "application/vnd.google.colaboratory.intrinsic+json": {
              "type": "dataframe",
              "summary": "{\n  \"name\": \"all_data\",\n  \"rows\": 5,\n  \"fields\": [\n    {\n      \"column\": \"Date\",\n      \"properties\": {\n        \"dtype\": \"date\",\n        \"min\": \"2023-12-22 00:00:00\",\n        \"max\": \"2023-12-29 00:00:00\",\n        \"num_unique_values\": 5,\n        \"samples\": [\n          \"2023-12-26 00:00:00\",\n          \"2023-12-29 00:00:00\",\n          \"2023-12-27 00:00:00\"\n        ],\n        \"semantic_type\": \"\",\n        \"description\": \"\"\n      }\n    },\n    {\n      \"column\": \"Open\",\n      \"properties\": {\n        \"dtype\": \"number\",\n        \"std\": 1.1688886310224817,\n        \"min\": 167.4600067138672,\n        \"max\": 170.0,\n        \"num_unique_values\": 5,\n        \"samples\": [\n          167.4600067138672,\n          170.0,\n          167.83999633789062\n        ],\n        \"semantic_type\": \"\",\n        \"description\": \"\"\n      }\n    },\n    {\n      \"column\": \"High\",\n      \"properties\": {\n        \"dtype\": \"number\",\n        \"std\": 1.1054340674824177,\n        \"min\": 168.22999572753906,\n        \"max\": 170.69000244140625,\n        \"num_unique_values\": 5,\n        \"samples\": [\n          168.77000427246094,\n          170.69000244140625,\n          169.47000122070312\n        ],\n        \"semantic_type\": \"\",\n        \"description\": \"\"\n      }\n    },\n    {\n      \"column\": \"Low\",\n      \"properties\": {\n        \"dtype\": \"number\",\n        \"std\": 1.1204635404848333,\n        \"min\": 167.17999267578125,\n        \"max\": 169.6300048828125,\n        \"num_unique_values\": 5,\n        \"samples\": [\n          167.17999267578125,\n          169.6300048828125,\n          167.5800018310547\n        ],\n        \"semantic_type\": \"\",\n        \"description\": \"\"\n      }\n    },\n    {\n      \"column\": \"Close\",\n      \"properties\": {\n        \"dtype\": \"number\",\n        \"std\": 1.216811162398224,\n        \"min\": 167.39999389648438,\n        \"max\": 170.3000030517578,\n        \"num_unique_values\": 5,\n        \"samples\": [\n          168.38999938964844,\n          170.10000610351562,\n          169.39999389648438\n        ],\n        \"semantic_type\": \"\",\n        \"description\": \"\"\n      }\n    },\n    {\n      \"column\": \"Adj Close\",\n      \"properties\": {\n        \"dtype\": \"number\",\n        \"std\": 1.2023482796694913,\n        \"min\": 165.40921020507812,\n        \"max\": 168.27474975585938,\n        \"num_unique_values\": 5,\n        \"samples\": [\n          166.387451171875,\n          168.07713317871094,\n          167.38543701171875\n        ],\n        \"semantic_type\": \"\",\n        \"description\": \"\"\n      }\n    },\n    {\n      \"column\": \"Volume\",\n      \"properties\": {\n        \"dtype\": \"number\",\n        \"std\": 790172,\n        \"min\": 4683600,\n        \"max\": 6574900,\n        \"num_unique_values\": 5,\n        \"samples\": [\n          4683600,\n          6431800,\n          6428600\n        ],\n        \"semantic_type\": \"\",\n        \"description\": \"\"\n      }\n    },\n    {\n      \"column\": \"Stocks\",\n      \"properties\": {\n        \"dtype\": \"category\",\n        \"num_unique_values\": 1,\n        \"samples\": [\n          \"JPM\"\n        ],\n        \"semantic_type\": \"\",\n        \"description\": \"\"\n      }\n    },\n    {\n      \"column\": \"Range Ratio\",\n      \"properties\": {\n        \"dtype\": \"number\",\n        \"std\": 0.0,\n        \"min\": 0.9286758737020925,\n        \"max\": 0.9286758737020925,\n        \"num_unique_values\": 1,\n        \"samples\": [\n          0.9286758737020925\n        ],\n        \"semantic_type\": \"\",\n        \"description\": \"\"\n      }\n    }\n  ]\n}"
            }
          },
          "metadata": {},
          "execution_count": 42
        }
      ]
    },
    {
      "cell_type": "code",
      "source": [
        "# Find the row with the largest range ratio among the selected stocks\n",
        "largest_range_row = all_data.loc[all_data['Range Ratio'].idxmax()]\n",
        "\n",
        "\n",
        "# Extract the stock symbol and largest range ratio\n",
        "largest_range_stock = largest_range_row['Stocks']\n",
        "largest_range_ratio = largest_range_row['Range Ratio']\n",
        "largest_range_ratio_rounded = round(largest_range_ratio, 2)\n",
        "\n",
        "# Print the result\n",
        "print(f\"The largest 52-weeks range ratio in 2023 among the selected stocks is {largest_range_ratio_rounded} belonging to {largest_range_stock}.\")"
      ],
      "metadata": {
        "colab": {
          "base_uri": "https://localhost:8080/"
        },
        "id": "Pp8kLCpkyMgM",
        "outputId": "29af55d6-57ef-4c7e-e6b2-616c77c8d1fd"
      },
      "execution_count": 44,
      "outputs": [
        {
          "output_type": "stream",
          "name": "stdout",
          "text": [
            "The largest 52-weeks range ratio in 2023 among the selected stocks is 0.93 belonging to 2222.SR.\n"
          ]
        }
      ]
    },
    {
      "cell_type": "markdown",
      "source": [
        "### **Question 5.** [Stocks] Dividend Yield\n",
        "Find the largest dividend yield for the same set of stocks\n",
        "\n",
        "Use the same list of companies (2222.SR,BRK-B, AAPL, MSFT, GOOG, JPM) and download all dividends paid in 2023. You can use get_actions() method or .dividends field in yfinance library (https://github.com/ranaroussi/yfinance?tab=readme-ov-file#quick-start)\n",
        "\n",
        "Sum up all dividends paid in 2023 per company and divide each value by the closing price (Adj.Close) at the last trading day of the year.\n",
        "\n",
        "Find the maximm value in % and round to 1 digit after the decimal point. (E.g., if you obtained $1.25 dividends paid and the end year stock price is $100, the dividend yield is 1.25% -- and your answer should be equal to 1.3)"
      ],
      "metadata": {
        "id": "Hqt20Zxu9nwH"
      }
    },
    {
      "cell_type": "markdown",
      "source": [
        "#### *Answer*"
      ],
      "metadata": {
        "id": "eVwrvtWGfw58"
      }
    },
    {
      "cell_type": "code",
      "source": [
        "# Define the list of stocks\n",
        "stocks = [\"2222.SR\", \"BRK-B\", \"AAPL\", \"MSFT\", \"GOOG\", \"JPM\"]\n",
        "\n",
        "# Download dividend data for each stock\n",
        "dividends = {}\n",
        "for stock in stocks:\n",
        "    ticker = yf.Ticker(stock)\n",
        "    # Get the historical data for the year\n",
        "    stock_prices = ticker.history()\n",
        "    div = ticker.dividends\n",
        "    dividends[stock] = div"
      ],
      "metadata": {
        "id": "o84oQwyyfVvL"
      },
      "execution_count": 60,
      "outputs": []
    },
    {
      "cell_type": "code",
      "source": [
        "# get the closing price\n",
        "closing_price = stock_prices['Close'].iloc[-1]\n",
        "print(closing_price)"
      ],
      "metadata": {
        "colab": {
          "base_uri": "https://localhost:8080/"
        },
        "id": "wfyHPmTi5NtP",
        "outputId": "e99fc5a3-fd63-477a-d01e-c80559f68228"
      },
      "execution_count": 65,
      "outputs": [
        {
          "output_type": "stream",
          "name": "stdout",
          "text": [
            "180.8000030517578\n"
          ]
        }
      ]
    },
    {
      "cell_type": "code",
      "source": [
        "# Calculate dividend yield for each stock\n",
        "dividend_yield = {}\n",
        "for stock, div in dividends.items():\n",
        "    try:\n",
        "      # Calculate dividend yield\n",
        "      total_dividends = div.sum()\n",
        "      dividend_yield[stock] = (total_dividends / closing_price) * 100\n",
        "    except KeyError:\n",
        "        # Handle KeyError for missing data\n",
        "        print(f\"Data not available for {stock}\")"
      ],
      "metadata": {
        "id": "jMJstKsBfmz6"
      },
      "execution_count": 63,
      "outputs": []
    },
    {
      "cell_type": "code",
      "source": [
        "# Find the maximum dividend yield\n",
        "max_dividend_yield = max(dividend_yield.values())\n",
        "\n",
        "# Round to 1 decimal place\n",
        "max_dividend_yield_rounded = round(max_dividend_yield, 1)\n",
        "\n",
        "max_dividend_yield_rounded"
      ],
      "metadata": {
        "colab": {
          "base_uri": "https://localhost:8080/"
        },
        "id": "wEdtn8Tz0PZJ",
        "outputId": "aaadbc98-1a6e-46e2-fd3f-64ad01d3b652"
      },
      "execution_count": 64,
      "outputs": [
        {
          "output_type": "execute_result",
          "data": {
            "text/plain": [
              "0.6"
            ]
          },
          "metadata": {},
          "execution_count": 64
        }
      ]
    },
    {
      "cell_type": "markdown",
      "source": [
        "### **Question 6**. [Exploratory] Investigate new metrics\n",
        "Free text answer\n",
        "\n",
        "Download and explore a few additional metrics or time series that might be valuable for your project and write down why (briefly).\n",
        "\n"
      ],
      "metadata": {
        "id": "v3nFf7BGhOtS"
      }
    },
    {
      "cell_type": "markdown",
      "source": [
        "#### *Answer*"
      ],
      "metadata": {
        "id": "Ve8s9G9lhcx3"
      }
    },
    {
      "cell_type": "markdown",
      "source": [
        "Here are a few examples of these metrics and their potential value:\n",
        "\n",
        "**Volatility (Volatility Index - VIX)**: Volatility measures the variation in asset prices over time. A high volatility index like VIX indicates market uncertainty and potential risks. Monitoring VIX can help in assessing market sentiment and adjusting investment strategies accordingly.\n",
        "\n",
        "**Leverage Ratios (Debt-to-Equity, Debt-to-Assets)**: These ratios evaluate a company's financial leverage and risk exposure. High leverage ratios may indicate higher financial risk, while lower ratios suggest better financial stability. Analyzing these ratios helps in understanding a company's capital structure and financial health.\n",
        "\n",
        "**Price-to-Earnings Ratio (P/E Ratio)**: The P/E ratio compares a company's current stock price to its earnings per share (EPS). A high P/E ratio may indicate that a company's stock is overvalued, while a low P/E ratio may suggest undervaluation. Monitoring P/E ratios helps in identifying potential investment opportunities or overvalued stocks.\n",
        "\n",
        "**Cash Flow Metrics (Operating Cash Flow, Free Cash Flow)**: Cash flow metrics assess a company's ability to generate cash from its core operations and available cash after capital expenditures. Positive cash flow indicates financial health and sustainability, while negative cash flow may raise concerns. Analyzing cash flow metrics provides insights into a company's liquidity and financial performance.\n",
        "\n",
        "**Technical Indicators (Moving Averages, Relative Strength Index - RSI)**: Technical indicators use historical price and volume data to analyze market trends and momentum. Moving averages help in identifying price trends, while RSI indicates overbought or oversold conditions. Incorporating technical indicators into analysis complements fundamental analysis and aids in making informed trading decisions."
      ],
      "metadata": {
        "id": "qjQ4HnWIgwSQ"
      }
    },
    {
      "cell_type": "markdown",
      "source": [
        "To try 2 of these metrics out:"
      ],
      "metadata": {
        "id": "xuNV4VfAipV7"
      }
    },
    {
      "cell_type": "code",
      "source": [
        "# Download Volatility Index (VIX) data\n",
        "vix_data = yf.download(\"^VIX\", start=\"2023-01-01\", end=\"2023-12-31\")\n",
        "\n",
        "# Print the VIX data\n",
        "print(vix_data.head())"
      ],
      "metadata": {
        "colab": {
          "base_uri": "https://localhost:8080/"
        },
        "id": "LOuFmc9EiuSP",
        "outputId": "9ab23164-6e8b-4c57-a519-32287d03bd7a"
      },
      "execution_count": 67,
      "outputs": [
        {
          "output_type": "stream",
          "name": "stderr",
          "text": [
            "\r[*********************100%%**********************]  1 of 1 completed"
          ]
        },
        {
          "output_type": "stream",
          "name": "stdout",
          "text": [
            "                 Open   High        Low      Close  Adj Close  Volume\n",
            "Date                                                                 \n",
            "2023-01-03  23.090000  23.76  22.730000  22.900000  22.900000       0\n",
            "2023-01-04  22.930000  23.27  21.940001  22.010000  22.010000       0\n",
            "2023-01-05  22.200001  22.92  21.969999  22.459999  22.459999       0\n",
            "2023-01-06  22.690001  22.90  21.000000  21.129999  21.129999       0\n",
            "2023-01-09  21.750000  21.98  21.270000  21.969999  21.969999       0\n"
          ]
        },
        {
          "output_type": "stream",
          "name": "stderr",
          "text": [
            "\n"
          ]
        }
      ]
    },
    {
      "cell_type": "code",
      "source": [
        "# Download Price-to-Earnings Ratio (P/E Ratio) data for AAPL\n",
        "stock_ticker = \"AAPL\"\n",
        "stock = yf.Ticker(stock_ticker)\n",
        "pe_ratio_data = stock.info[\"trailingPE\"]\n",
        "\n",
        "# Print the P/E Ratio data\n",
        "print(f\"Price-to-Earnings Ratio (P/E Ratio) for {stock_ticker}: {pe_ratio_data}\")"
      ],
      "metadata": {
        "colab": {
          "base_uri": "https://localhost:8080/"
        },
        "id": "PxvIImmbiye4",
        "outputId": "2c70c6d7-81b6-4eb4-9e71-6f33c787cc4a"
      },
      "execution_count": 68,
      "outputs": [
        {
          "output_type": "stream",
          "name": "stdout",
          "text": [
            "Price-to-Earnings Ratio (P/E Ratio) for AAPL: 26.383179\n"
          ]
        }
      ]
    },
    {
      "cell_type": "markdown",
      "source": [
        "### **Question 7**. [Exploratory] Time-driven strategy description around earnings releases\n",
        "Free text answer\n",
        "\n",
        "Explore earning dates for the whole month of April - e.g. using YahooFinance earnings calendar (https://finance.yahoo.com/calendar/earnings?from=2024-04-21&to=2024-04-27&day=2024-04-23). Compare with the previous closed earnings (e.g., recent dates with full data https://finance.yahoo.com/calendar/earnings?from=2024-04-07&to=2024-04-13&day=2024-04-08).\n",
        "\n",
        "Describe an analytical strategy/idea (you're not required to implement it) to select a subset companies of interest based on the future events data."
      ],
      "metadata": {
        "id": "xBG6qQE_lMAF"
      }
    },
    {
      "cell_type": "markdown",
      "source": [
        "#### *Answer*"
      ],
      "metadata": {
        "id": "XjGq5BZFmT-E"
      }
    },
    {
      "cell_type": "markdown",
      "source": [
        "I would prefer to scrap this information using python."
      ],
      "metadata": {
        "id": "xXbUjjilmYsp"
      }
    },
    {
      "cell_type": "code",
      "source": [
        "import requests\n",
        "from bs4 import BeautifulSoup"
      ],
      "metadata": {
        "id": "qKejBKAAmlw-"
      },
      "execution_count": 79,
      "outputs": []
    },
    {
      "cell_type": "code",
      "source": [
        "def get_earnings_calendar_data(url):\n",
        "    # Send a GET request to the URL\n",
        "    response = requests.get(url)\n",
        "\n",
        "    # Check if the request was successful\n",
        "    if response.status_code == 200:\n",
        "        # Parse the HTML content of the webpage\n",
        "        soup = BeautifulSoup(response.content, 'html.parser')\n",
        "\n",
        "        # Find the table containing earnings data\n",
        "        table = soup.find('table', {'class': 'W(100%)'})\n",
        "\n",
        "        # Extract data from the table\n",
        "        # You'll need to inspect the HTML structure to extract the specific data you want\n",
        "        earnings_data = []\n",
        "        rows = table.find_all('tr')\n",
        "        for row in rows[1:]:  # Skip the header row\n",
        "            cells = row.find_all('td')\n",
        "            symbol = cells[0].text.strip()\n",
        "            company_name = cells[1].text.strip()\n",
        "            earning_period = cells[2].text.strip()\n",
        "            four = cells[3].text.strip()\n",
        "            earnings_data.append({'Stock': symbol, 'Company': company_name, 'Earning Period': earning_period})\n",
        "        return earnings_data\n",
        "    else:\n",
        "        print('Failed to retrieve data from the webpage.')\n",
        "        return None"
      ],
      "metadata": {
        "id": "5JiImYw4ms1a"
      },
      "execution_count": 114,
      "outputs": []
    },
    {
      "cell_type": "code",
      "source": [
        "# URLs for the earnings calendars\n",
        "april_earnings_url = 'https://finance.yahoo.com/calendar/earnings?from=2024-04-01&to=2024-04-30'\n",
        "previous_closed_earnings_url = 'https://finance.yahoo.com/calendar/earnings?from=2024-03-25&to=2024-03-31'"
      ],
      "metadata": {
        "id": "tQ2WQnOp7iFT"
      },
      "execution_count": 112,
      "outputs": []
    },
    {
      "cell_type": "code",
      "source": [
        "# Scrape earnings data for April earnings\n",
        "april_earnings_data = get_earnings_calendar_data(april_earnings_url)\n",
        "\n",
        "# Scrape earnings data for previous closed earnings\n",
        "previous_closed_earnings_data = get_earnings_calendar_data(previous_closed_earnings_url)\n",
        "\n",
        "# Print the extracted data\n",
        "print('Earnings Calendar for April:')\n",
        "for entry in april_earnings_data:\n",
        "    print(entry)\n",
        "\n",
        "print('\\nPrevious Closed Earnings:')\n",
        "for entry in previous_closed_earnings_data:\n",
        "    print(entry)"
      ],
      "metadata": {
        "colab": {
          "base_uri": "https://localhost:8080/"
        },
        "id": "QOL0bqpgl2lW",
        "outputId": "ccdac308-e120-46bc-bad6-031db94c59a2"
      },
      "execution_count": 115,
      "outputs": [
        {
          "output_type": "stream",
          "name": "stdout",
          "text": [
            "Earnings Calendar for April:\n",
            "{'Stock': 'EFSH', 'Company': '1847 Holdings LLC', 'Earning Period': 'Q4 2023  Earnings Release'}\n",
            "{'Stock': 'INLB', 'Company': 'Item 9 Labs Corp', 'Earning Period': 'Q4 2023  Earnings Release'}\n",
            "{'Stock': 'INLB', 'Company': 'Item 9 Labs Corp', 'Earning Period': 'Q1 2024  Earnings Release'}\n",
            "{'Stock': 'NMTRQ', 'Company': '9 Meters Biopharma Inc', 'Earning Period': 'Q4 2023  Earnings Release'}\n",
            "{'Stock': 'ATCMF', 'Company': 'Atico Mining Corp', 'Earning Period': 'Q1 2024  Earnings Release'}\n",
            "{'Stock': 'ARHTF', 'Company': 'ARHT Media Inc', 'Earning Period': 'Q4 2023  Earnings Release'}\n",
            "{'Stock': 'DIT', 'Company': 'AMCON Distributing Co', 'Earning Period': 'Q2 2024  Earnings Release'}\n",
            "{'Stock': 'BAC', 'Company': 'Bank of America Corp', 'Earning Period': 'Q1 2024  Earnings Release'}\n",
            "{'Stock': 'BAC', 'Company': 'Bank of America Corp', 'Earning Period': 'Q1 2024  Earnings Call'}\n",
            "{'Stock': 'DMKPQ', 'Company': 'Adamis Pharmaceuticals Corp', 'Earning Period': 'Q4 2023 DMK Pharmaceuticals Corp Earnings Release'}\n",
            "{'Stock': 'FLYLF', 'Company': 'FLYHT Aerospace Solutions Ltd', 'Earning Period': 'Q4 2023  Earnings Release'}\n",
            "{'Stock': 'AUVI', 'Company': 'Applied UV Inc', 'Earning Period': 'Q4 2023  Earnings Release'}\n",
            "{'Stock': 'ARVLF', 'Company': 'Arrival SA', 'Earning Period': 'Q4 2023  Earnings Release'}\n",
            "{'Stock': 'BCEL', 'Company': 'Atreca Inc', 'Earning Period': 'Q4 2023  Earnings Release'}\n",
            "{'Stock': 'ACBM', 'Company': 'ACRO Biomedical Co Ltd', 'Earning Period': 'Q3 2023  Earnings Release'}\n",
            "{'Stock': 'AGILQ', 'Company': 'AgileThought Inc', 'Earning Period': 'Q4 2023  Earnings Release'}\n",
            "{'Stock': 'AFB', 'Company': 'Alliancebernstein National Municipal Income Fund Inc', 'Earning Period': 'Q1 2024  Earnings Release'}\n",
            "{'Stock': 'ANRGF', 'Company': 'Anaergia Inc', 'Earning Period': 'Q4 2023  Earnings Release'}\n",
            "{'Stock': 'AWF', 'Company': 'AllianceBernstein Global High Income Fund Inc', 'Earning Period': 'Q1 2024  Earnings Release'}\n",
            "{'Stock': 'GTPS', 'Company': 'Great American Bancorp Inc', 'Earning Period': 'Q1 2024  Earnings Release'}\n",
            "{'Stock': 'BURU', 'Company': 'Tailwind Acquisition Corp', 'Earning Period': 'Q4 2023 NUBURU Inc Earnings Release'}\n",
            "{'Stock': 'EESE', 'Company': 'Energy and Environmental Services Inc', 'Earning Period': 'Q4 2023  Earnings Release'}\n",
            "{'Stock': 'CSTPF', 'Company': 'Arrow Exploration Corp', 'Earning Period': 'Q4 2023  Earnings Release'}\n",
            "{'Stock': 'ACRHF', 'Company': 'Acreage Holdings Inc', 'Earning Period': 'Q4 2023  Earnings Release'}\n",
            "{'Stock': 'HGAS', 'Company': 'Dune Acquisition Corp', 'Earning Period': 'Q4 2023 Global Gas Corp Earnings Release'}\n",
            "{'Stock': 'CDMO', 'Company': 'Avid Bioservices Inc', 'Earning Period': 'Q3 2024  Earnings Release'}\n",
            "{'Stock': 'ARAT', 'Company': 'Arax Holdings Corp.', 'Earning Period': 'Q1 2024  Earnings Release'}\n",
            "{'Stock': 'FUV', 'Company': 'Arcimoto Inc', 'Earning Period': 'Q4 2023  Earnings Release'}\n",
            "{'Stock': 'ASRV', 'Company': 'Ameriserv Financial Inc', 'Earning Period': 'Q1 2024  Earnings Release'}\n",
            "{'Stock': 'VIVXF', 'Company': 'Avivagen Inc', 'Earning Period': 'Q4 2023  Earnings Release'}\n",
            "{'Stock': 'AMMJ', 'Company': 'American Cannabis Company Inc', 'Earning Period': 'Q4 2023  Earnings Release'}\n",
            "{'Stock': 'AURWF', 'Company': 'Aurwest Resources Corp', 'Earning Period': 'Q4 2023  Earnings Release'}\n",
            "{'Stock': 'ABBRF', 'Company': 'AbraSilver Resource Corp', 'Earning Period': 'Q4 2023  Earnings Release'}\n",
            "{'Stock': 'ADXS', 'Company': 'Advaxis Inc', 'Earning Period': 'Q4 2023 Ayala Pharmaceuticals Inc Earnings Release'}\n",
            "{'Stock': 'UAL', 'Company': 'United Airlines Holdings Inc', 'Earning Period': 'Q1 2024  Earnings Release'}\n",
            "{'Stock': 'VIVXF', 'Company': 'Avivagen Inc', 'Earning Period': 'Q1 2024  Earnings Release'}\n",
            "{'Stock': 'PMGM', 'Company': 'Tastemaker Acquisition Corp', 'Earning Period': 'Q4 2023 Priveterra Acquisition Corp II Earnings Release'}\n",
            "{'Stock': 'ASTR', 'Company': 'Astra Space Inc', 'Earning Period': 'Q4 2023  Earnings Release'}\n",
            "{'Stock': 'BTQQF', 'Company': 'Sonora Gold and Silver Corp', 'Earning Period': 'Q4 2024 BTQ Technologies Corp Earnings Release'}\n",
            "{'Stock': 'USAP', 'Company': 'Universal Stainless & Alloy Products Inc', 'Earning Period': 'Q1 2024  Earnings Release'}\n",
            "{'Stock': 'ILAL', 'Company': 'International Land Alliance Inc', 'Earning Period': 'Q4 2023  Earnings Release'}\n",
            "{'Stock': 'MIMOQ', 'Company': 'Airspan Networks Holdings Inc', 'Earning Period': 'Q4 2023  Earnings Release'}\n",
            "{'Stock': 'MESA', 'Company': 'Mesa Air Group Inc', 'Earning Period': 'Q1 2024  Earnings Release'}\n",
            "{'Stock': 'AWLIF', 'Company': 'Ameriwest Lithium Inc', 'Earning Period': 'Q3 2023  Earnings Release'}\n",
            "{'Stock': 'ACMTA', 'Company': 'ACMAT Corp', 'Earning Period': 'Q4 2023  Earnings Release'}\n",
            "{'Stock': 'ADN', 'Company': 'Advent Technologies Holdings Inc', 'Earning Period': 'Q4 2023  Earnings Release'}\n",
            "{'Stock': 'USA', 'Company': 'Liberty All-Star Equity Fund', 'Earning Period': 'Q1 2024  Earnings Release'}\n",
            "{'Stock': 'ARAO', 'Company': 'AuraSource Inc', 'Earning Period': 'Q3 2023  Earnings Release'}\n",
            "{'Stock': 'WTER', 'Company': 'Alkaline Water Company Inc', 'Earning Period': 'Q3 2024  Earnings Release'}\n",
            "{'Stock': 'NTRP', 'Company': 'Sigma Additive Solutions Inc', 'Earning Period': 'Q4 2023 NextTrip Inc Earnings Release'}\n",
            "{'Stock': 'SPND', 'Company': 'Spindletop Oil and Gas Co', 'Earning Period': 'Q4 2023  Earnings Release'}\n",
            "{'Stock': 'AJIA', 'Company': 'Ajia Innogroup Holdings Ltd', 'Earning Period': 'Q2 2024  Earnings Release'}\n",
            "{'Stock': 'ICU', 'Company': 'LMF Acquisition Opportunities Inc', 'Earning Period': 'Q4 2023 SeaStar Medical Holding Corp Earnings Release'}\n",
            "{'Stock': 'IONM', 'Company': 'Assure Holdings Corp', 'Earning Period': 'Q4 2023  Earnings Release'}\n",
            "{'Stock': 'ASGOF', 'Company': 'Asante Gold Corp', 'Earning Period': 'Q3 2024  Earnings Release'}\n",
            "{'Stock': 'AVTBF', 'Company': 'Avant Brands Inc', 'Earning Period': 'Q1 2024  Earnings Call'}\n",
            "{'Stock': 'VSAC', 'Company': 'Vision Sensing Acquisition Corp', 'Earning Period': 'Q4 2024  Earnings Release'}\n",
            "{'Stock': 'APGT', 'Company': 'Appgate Inc', 'Earning Period': 'Q4 2023  Earnings Release'}\n",
            "{'Stock': 'ATHXQ', 'Company': 'Athersys Inc', 'Earning Period': 'Q4 2023  Earnings Release'}\n",
            "{'Stock': 'CSHX', 'Company': 'Cashmere Valley Bank', 'Earning Period': 'Q1 2024  Earnings Release'}\n",
            "{'Stock': 'BCBP', 'Company': 'BCB Bancorp Inc', 'Earning Period': 'Q1 2024  Earnings Release'}\n",
            "{'Stock': 'NIC', 'Company': 'Nicolet Bankshares Inc', 'Earning Period': 'Q1 2024  Earnings Release'}\n",
            "{'Stock': 'BIVI', 'Company': 'Biovie Inc', 'Earning Period': 'Q2 2024 BioVie Inc Earnings Release'}\n",
            "{'Stock': 'BNOX', 'Company': 'Bionomics Ltd', 'Earning Period': 'Half Year 2024  Earnings Release'}\n",
            "{'Stock': 'BQ', 'Company': 'Boqii Holding Ltd', 'Earning Period': 'Q3 2024  Earnings Release'}\n",
            "{'Stock': 'CBSH', 'Company': 'Commerce Bancshares Inc', 'Earning Period': 'Q1 2024  Earnings Release'}\n",
            "{'Stock': 'RGBP', 'Company': 'Regen BioPharma Inc', 'Earning Period': 'Q2 2024  Earnings Release'}\n",
            "{'Stock': 'JBHT', 'Company': 'J B Hunt Transport Services Inc', 'Earning Period': 'Q1 2024  Earnings Release'}\n",
            "{'Stock': 'BLPH', 'Company': 'Bellerophon Therapeutics Inc', 'Earning Period': 'Q4 2023  Earnings Release'}\n",
            "{'Stock': 'JBHT', 'Company': 'J B Hunt Transport Services Inc', 'Earning Period': 'Q1 2024  Earnings Call'}\n",
            "{'Stock': 'SQZB', 'Company': 'SQZ Biotechnologies Co', 'Earning Period': 'Q4 2023  Earnings Release'}\n",
            "{'Stock': 'CUBT', 'Company': 'Curative Biotechnology Inc', 'Earning Period': 'Q4 2023  Earnings Release'}\n",
            "{'Stock': 'HBPCF', 'Company': 'Helix Biopharma Corp', 'Earning Period': 'Q2 2024  Earnings Release'}\n",
            "{'Stock': 'EQBK', 'Company': 'Equity Bancshares Inc', 'Earning Period': 'Q1 2024  Earnings Release'}\n",
            "{'Stock': 'BXRXQ', 'Company': 'Baudax Bio Inc', 'Earning Period': 'Q4 2023  Earnings Release'}\n",
            "{'Stock': 'BEWFF', 'Company': 'Bewhere Holdings Inc', 'Earning Period': 'Q4 2023  Earnings Release'}\n",
            "{'Stock': 'ELBM', 'Company': 'Electra Battery Materials Corp', 'Earning Period': 'Q4 2023  Earnings Release'}\n",
            "{'Stock': 'BEEM', 'Company': 'Beam Global', 'Earning Period': 'Q4 2023  Earnings Release'}\n",
            "{'Stock': 'QBIO', 'Company': 'Q BioMed Inc', 'Earning Period': 'Q3 2023  Earnings Release'}\n",
            "{'Stock': 'CNTB', 'Company': 'Connect Biopharma Holdings Ltd', 'Earning Period': 'Full Year 2023  Earnings Release'}\n",
            "{'Stock': 'KOAN', 'Company': 'Resonate Blends Inc', 'Earning Period': 'Q4 2023  Earnings Release'}\n",
            "{'Stock': 'NAVB', 'Company': 'Navidea Biopharmaceuticals Inc', 'Earning Period': 'Q4 2023  Earnings Release'}\n",
            "{'Stock': 'PBIO', 'Company': 'Pressure Biosciences Inc', 'Earning Period': 'Q4 2023  Earnings Release'}\n",
            "{'Stock': 'HCBC', 'Company': 'High Country Bancorp Inc', 'Earning Period': 'Q3 2024  Earnings Release'}\n",
            "{'Stock': 'BDRL', 'Company': 'Blonder Tongue Laboratories Inc', 'Earning Period': 'Q4 2023  Earnings Release'}\n",
            "{'Stock': 'BDCTF', 'Company': 'BuildDirect.com Technologies Inc', 'Earning Period': 'Q4 2023  Earnings Release'}\n",
            "{'Stock': 'BRDSQ', 'Company': 'Bird Global Inc', 'Earning Period': 'Q4 2023  Earnings Release'}\n",
            "{'Stock': 'INVO', 'Company': 'INVO Bioscience Inc', 'Earning Period': 'Q4 2023  Earnings Release'}\n",
            "{'Stock': 'IBKR', 'Company': 'Interactive Brokers Group Inc', 'Earning Period': 'Q1 2024  Earnings Release'}\n",
            "{'Stock': 'IBKR', 'Company': 'Interactive Brokers Group Inc', 'Earning Period': 'Q1 2024  Earnings Call'}\n",
            "{'Stock': 'CRFTF', 'Company': 'BC Craft Supply Co Ltd', 'Earning Period': 'Q4 2023  Earnings Release'}\n",
            "{'Stock': 'CRFTF', 'Company': 'BC Craft Supply Co Ltd', 'Earning Period': 'Q1 2024  Earnings Release'}\n",
            "{'Stock': 'AULT', 'Company': 'Bitnile Holdings Inc', 'Earning Period': 'Q4 2023 Ault Alliance Inc Earnings Release'}\n",
            "{'Stock': 'VABK', 'Company': 'Virginia National Bankshares Corp', 'Earning Period': 'Q1 2024  Earnings Release'}\n",
            "{'Stock': 'BFC', 'Company': 'Bank First Corp', 'Earning Period': 'Q1 2024  Earnings Release'}\n",
            "{'Stock': 'BK', 'Company': 'Bank of New York Mellon Corp', 'Earning Period': 'Q1 2024  Earnings Call'}\n",
            "{'Stock': 'BK', 'Company': 'Bank of New York Mellon Corp', 'Earning Period': 'Q1 2024  Earnings Release'}\n",
            "{'Stock': 'BIOCQ', 'Company': 'Biocept Inc', 'Earning Period': 'Q4 2023  Earnings Release'}\n",
            "{'Stock': 'BIEL', 'Company': 'BioElectronics Corp', 'Earning Period': 'Q4 2023  Earnings Release'}\n",
            "{'Stock': 'BTVRF', 'Company': 'BlueRush Inc', 'Earning Period': 'Q3 2024  Earnings Release'}\n",
            "\n",
            "Previous Closed Earnings:\n",
            "{'Stock': 'EFSH', 'Company': '1847 Holdings LLC', 'Earning Period': 'Q4 2023  Earnings Release'}\n",
            "{'Stock': 'INLB', 'Company': 'Item 9 Labs Corp', 'Earning Period': 'Q4 2023  Earnings Release'}\n",
            "{'Stock': 'INLB', 'Company': 'Item 9 Labs Corp', 'Earning Period': 'Q1 2024  Earnings Release'}\n",
            "{'Stock': 'NMTRQ', 'Company': '9 Meters Biopharma Inc', 'Earning Period': 'Q4 2023  Earnings Release'}\n",
            "{'Stock': 'ATCMF', 'Company': 'Atico Mining Corp', 'Earning Period': 'Q1 2024  Earnings Release'}\n",
            "{'Stock': 'ARHTF', 'Company': 'ARHT Media Inc', 'Earning Period': 'Q4 2023  Earnings Release'}\n",
            "{'Stock': 'DIT', 'Company': 'AMCON Distributing Co', 'Earning Period': 'Q2 2024  Earnings Release'}\n",
            "{'Stock': 'BAC', 'Company': 'Bank of America Corp', 'Earning Period': 'Q1 2024  Earnings Release'}\n",
            "{'Stock': 'BAC', 'Company': 'Bank of America Corp', 'Earning Period': 'Q1 2024  Earnings Call'}\n",
            "{'Stock': 'DMKPQ', 'Company': 'Adamis Pharmaceuticals Corp', 'Earning Period': 'Q4 2023 DMK Pharmaceuticals Corp Earnings Release'}\n",
            "{'Stock': 'FLYLF', 'Company': 'FLYHT Aerospace Solutions Ltd', 'Earning Period': 'Q4 2023  Earnings Release'}\n",
            "{'Stock': 'AUVI', 'Company': 'Applied UV Inc', 'Earning Period': 'Q4 2023  Earnings Release'}\n",
            "{'Stock': 'ARVLF', 'Company': 'Arrival SA', 'Earning Period': 'Q4 2023  Earnings Release'}\n",
            "{'Stock': 'BCEL', 'Company': 'Atreca Inc', 'Earning Period': 'Q4 2023  Earnings Release'}\n",
            "{'Stock': 'ACBM', 'Company': 'ACRO Biomedical Co Ltd', 'Earning Period': 'Q3 2023  Earnings Release'}\n",
            "{'Stock': 'AGILQ', 'Company': 'AgileThought Inc', 'Earning Period': 'Q4 2023  Earnings Release'}\n",
            "{'Stock': 'AFB', 'Company': 'Alliancebernstein National Municipal Income Fund Inc', 'Earning Period': 'Q1 2024  Earnings Release'}\n",
            "{'Stock': 'ANRGF', 'Company': 'Anaergia Inc', 'Earning Period': 'Q4 2023  Earnings Release'}\n",
            "{'Stock': 'AWF', 'Company': 'AllianceBernstein Global High Income Fund Inc', 'Earning Period': 'Q1 2024  Earnings Release'}\n",
            "{'Stock': 'GTPS', 'Company': 'Great American Bancorp Inc', 'Earning Period': 'Q1 2024  Earnings Release'}\n",
            "{'Stock': 'BURU', 'Company': 'Tailwind Acquisition Corp', 'Earning Period': 'Q4 2023 NUBURU Inc Earnings Release'}\n",
            "{'Stock': 'CDMO', 'Company': 'Avid Bioservices Inc', 'Earning Period': 'Q3 2024  Earnings Release'}\n",
            "{'Stock': 'CSTPF', 'Company': 'Arrow Exploration Corp', 'Earning Period': 'Q4 2023  Earnings Release'}\n",
            "{'Stock': 'EESE', 'Company': 'Energy and Environmental Services Inc', 'Earning Period': 'Q4 2023  Earnings Release'}\n",
            "{'Stock': 'HGAS', 'Company': 'Dune Acquisition Corp', 'Earning Period': 'Q4 2023 Global Gas Corp Earnings Release'}\n",
            "{'Stock': 'ARAT', 'Company': 'Arax Holdings Corp.', 'Earning Period': 'Q1 2024  Earnings Release'}\n",
            "{'Stock': 'FUV', 'Company': 'Arcimoto Inc', 'Earning Period': 'Q4 2023  Earnings Release'}\n",
            "{'Stock': 'ACRHF', 'Company': 'Acreage Holdings Inc', 'Earning Period': 'Q4 2023  Earnings Release'}\n",
            "{'Stock': 'ASRV', 'Company': 'Ameriserv Financial Inc', 'Earning Period': 'Q1 2024  Earnings Release'}\n",
            "{'Stock': 'BTQQF', 'Company': 'Sonora Gold and Silver Corp', 'Earning Period': 'Q4 2024 BTQ Technologies Corp Earnings Release'}\n",
            "{'Stock': 'ABBRF', 'Company': 'AbraSilver Resource Corp', 'Earning Period': 'Q4 2023  Earnings Release'}\n",
            "{'Stock': 'ADXS', 'Company': 'Advaxis Inc', 'Earning Period': 'Q4 2023 Ayala Pharmaceuticals Inc Earnings Release'}\n",
            "{'Stock': 'VIVXF', 'Company': 'Avivagen Inc', 'Earning Period': 'Q4 2023  Earnings Release'}\n",
            "{'Stock': 'UAL', 'Company': 'United Airlines Holdings Inc', 'Earning Period': 'Q1 2024  Earnings Release'}\n",
            "{'Stock': 'VIVXF', 'Company': 'Avivagen Inc', 'Earning Period': 'Q1 2024  Earnings Release'}\n",
            "{'Stock': 'PMGM', 'Company': 'Tastemaker Acquisition Corp', 'Earning Period': 'Q4 2023 Priveterra Acquisition Corp II Earnings Release'}\n",
            "{'Stock': 'AMMJ', 'Company': 'American Cannabis Company Inc', 'Earning Period': 'Q4 2023  Earnings Release'}\n",
            "{'Stock': 'ASTR', 'Company': 'Astra Space Inc', 'Earning Period': 'Q4 2023  Earnings Release'}\n",
            "{'Stock': 'AURWF', 'Company': 'Aurwest Resources Corp', 'Earning Period': 'Q4 2023  Earnings Release'}\n",
            "{'Stock': 'USAP', 'Company': 'Universal Stainless & Alloy Products Inc', 'Earning Period': 'Q1 2024  Earnings Release'}\n",
            "{'Stock': 'ILAL', 'Company': 'International Land Alliance Inc', 'Earning Period': 'Q4 2023  Earnings Release'}\n",
            "{'Stock': 'MESA', 'Company': 'Mesa Air Group Inc', 'Earning Period': 'Q1 2024  Earnings Release'}\n",
            "{'Stock': 'MIMOQ', 'Company': 'Airspan Networks Holdings Inc', 'Earning Period': 'Q4 2023  Earnings Release'}\n",
            "{'Stock': 'ACMTA', 'Company': 'ACMAT Corp', 'Earning Period': 'Q4 2023  Earnings Release'}\n",
            "{'Stock': 'ADN', 'Company': 'Advent Technologies Holdings Inc', 'Earning Period': 'Q4 2023  Earnings Release'}\n",
            "{'Stock': 'AWLIF', 'Company': 'Ameriwest Lithium Inc', 'Earning Period': 'Q3 2023  Earnings Release'}\n",
            "{'Stock': 'SPND', 'Company': 'Spindletop Oil and Gas Co', 'Earning Period': 'Q4 2023  Earnings Release'}\n",
            "{'Stock': 'IONM', 'Company': 'Assure Holdings Corp', 'Earning Period': 'Q4 2023  Earnings Release'}\n",
            "{'Stock': 'ICU', 'Company': 'LMF Acquisition Opportunities Inc', 'Earning Period': 'Q4 2023 SeaStar Medical Holding Corp Earnings Release'}\n",
            "{'Stock': 'AVTBF', 'Company': 'Avant Brands Inc', 'Earning Period': 'Q1 2024  Earnings Call'}\n",
            "{'Stock': 'APGT', 'Company': 'Appgate Inc', 'Earning Period': 'Q4 2023  Earnings Release'}\n",
            "{'Stock': 'NTRP', 'Company': 'Sigma Additive Solutions Inc', 'Earning Period': 'Q4 2023 NextTrip Inc Earnings Release'}\n",
            "{'Stock': 'AJIA', 'Company': 'Ajia Innogroup Holdings Ltd', 'Earning Period': 'Q2 2024  Earnings Release'}\n",
            "{'Stock': 'USA', 'Company': 'Liberty All-Star Equity Fund', 'Earning Period': 'Q1 2024  Earnings Release'}\n",
            "{'Stock': 'VSAC', 'Company': 'Vision Sensing Acquisition Corp', 'Earning Period': 'Q4 2024  Earnings Release'}\n",
            "{'Stock': 'ARAO', 'Company': 'AuraSource Inc', 'Earning Period': 'Q3 2023  Earnings Release'}\n",
            "{'Stock': 'ATHXQ', 'Company': 'Athersys Inc', 'Earning Period': 'Q4 2023  Earnings Release'}\n",
            "{'Stock': 'WTER', 'Company': 'Alkaline Water Company Inc', 'Earning Period': 'Q3 2024  Earnings Release'}\n",
            "{'Stock': 'ASGOF', 'Company': 'Asante Gold Corp', 'Earning Period': 'Q3 2024  Earnings Release'}\n",
            "{'Stock': 'CSHX', 'Company': 'Cashmere Valley Bank', 'Earning Period': 'Q1 2024  Earnings Release'}\n",
            "{'Stock': 'BCBP', 'Company': 'BCB Bancorp Inc', 'Earning Period': 'Q1 2024  Earnings Release'}\n",
            "{'Stock': 'NIC', 'Company': 'Nicolet Bankshares Inc', 'Earning Period': 'Q1 2024  Earnings Release'}\n",
            "{'Stock': 'BIVI', 'Company': 'Biovie Inc', 'Earning Period': 'Q2 2024 BioVie Inc Earnings Release'}\n",
            "{'Stock': 'BNOX', 'Company': 'Bionomics Ltd', 'Earning Period': 'Half Year 2024  Earnings Release'}\n",
            "{'Stock': 'BQ', 'Company': 'Boqii Holding Ltd', 'Earning Period': 'Q3 2024  Earnings Release'}\n",
            "{'Stock': 'CBSH', 'Company': 'Commerce Bancshares Inc', 'Earning Period': 'Q1 2024  Earnings Release'}\n",
            "{'Stock': 'RGBP', 'Company': 'Regen BioPharma Inc', 'Earning Period': 'Q2 2024  Earnings Release'}\n",
            "{'Stock': 'JBHT', 'Company': 'J B Hunt Transport Services Inc', 'Earning Period': 'Q1 2024  Earnings Release'}\n",
            "{'Stock': 'BLPH', 'Company': 'Bellerophon Therapeutics Inc', 'Earning Period': 'Q4 2023  Earnings Release'}\n",
            "{'Stock': 'JBHT', 'Company': 'J B Hunt Transport Services Inc', 'Earning Period': 'Q1 2024  Earnings Call'}\n",
            "{'Stock': 'SQZB', 'Company': 'SQZ Biotechnologies Co', 'Earning Period': 'Q4 2023  Earnings Release'}\n",
            "{'Stock': 'CUBT', 'Company': 'Curative Biotechnology Inc', 'Earning Period': 'Q4 2023  Earnings Release'}\n",
            "{'Stock': 'HBPCF', 'Company': 'Helix Biopharma Corp', 'Earning Period': 'Q2 2024  Earnings Release'}\n",
            "{'Stock': 'EQBK', 'Company': 'Equity Bancshares Inc', 'Earning Period': 'Q1 2024  Earnings Release'}\n",
            "{'Stock': 'BXRXQ', 'Company': 'Baudax Bio Inc', 'Earning Period': 'Q4 2023  Earnings Release'}\n",
            "{'Stock': 'BEWFF', 'Company': 'Bewhere Holdings Inc', 'Earning Period': 'Q4 2023  Earnings Release'}\n",
            "{'Stock': 'CNTB', 'Company': 'Connect Biopharma Holdings Ltd', 'Earning Period': 'Full Year 2023  Earnings Release'}\n",
            "{'Stock': 'NAVB', 'Company': 'Navidea Biopharmaceuticals Inc', 'Earning Period': 'Q4 2023  Earnings Release'}\n",
            "{'Stock': 'ELBM', 'Company': 'Electra Battery Materials Corp', 'Earning Period': 'Q4 2023  Earnings Release'}\n",
            "{'Stock': 'KOAN', 'Company': 'Resonate Blends Inc', 'Earning Period': 'Q4 2023  Earnings Release'}\n",
            "{'Stock': 'QBIO', 'Company': 'Q BioMed Inc', 'Earning Period': 'Q3 2023  Earnings Release'}\n",
            "{'Stock': 'BEEM', 'Company': 'Beam Global', 'Earning Period': 'Q4 2023  Earnings Release'}\n",
            "{'Stock': 'PBIO', 'Company': 'Pressure Biosciences Inc', 'Earning Period': 'Q4 2023  Earnings Release'}\n",
            "{'Stock': 'BRDSQ', 'Company': 'Bird Global Inc', 'Earning Period': 'Q4 2023  Earnings Release'}\n",
            "{'Stock': 'CRFTF', 'Company': 'BC Craft Supply Co Ltd', 'Earning Period': 'Q4 2023  Earnings Release'}\n",
            "{'Stock': 'CRFTF', 'Company': 'BC Craft Supply Co Ltd', 'Earning Period': 'Q1 2024  Earnings Release'}\n",
            "{'Stock': 'INVO', 'Company': 'INVO Bioscience Inc', 'Earning Period': 'Q4 2023  Earnings Release'}\n",
            "{'Stock': 'IBKR', 'Company': 'Interactive Brokers Group Inc', 'Earning Period': 'Q1 2024  Earnings Call'}\n",
            "{'Stock': 'IBKR', 'Company': 'Interactive Brokers Group Inc', 'Earning Period': 'Q1 2024  Earnings Release'}\n",
            "{'Stock': 'BDCTF', 'Company': 'BuildDirect.com Technologies Inc', 'Earning Period': 'Q4 2023  Earnings Release'}\n",
            "{'Stock': 'HCBC', 'Company': 'High Country Bancorp Inc', 'Earning Period': 'Q3 2024  Earnings Release'}\n",
            "{'Stock': 'BDRL', 'Company': 'Blonder Tongue Laboratories Inc', 'Earning Period': 'Q4 2023  Earnings Release'}\n",
            "{'Stock': 'AULT', 'Company': 'Bitnile Holdings Inc', 'Earning Period': 'Q4 2023 Ault Alliance Inc Earnings Release'}\n",
            "{'Stock': 'VABK', 'Company': 'Virginia National Bankshares Corp', 'Earning Period': 'Q1 2024  Earnings Release'}\n",
            "{'Stock': 'BFC', 'Company': 'Bank First Corp', 'Earning Period': 'Q1 2024  Earnings Release'}\n",
            "{'Stock': 'BK', 'Company': 'Bank of New York Mellon Corp', 'Earning Period': 'Q1 2024  Earnings Call'}\n",
            "{'Stock': 'BK', 'Company': 'Bank of New York Mellon Corp', 'Earning Period': 'Q1 2024  Earnings Release'}\n",
            "{'Stock': 'BON', 'Company': 'Bon Natural Life Ltd', 'Earning Period': 'Full Year 2023  Earnings Release'}\n",
            "{'Stock': 'BIEL', 'Company': 'BioElectronics Corp', 'Earning Period': 'Q4 2023  Earnings Release'}\n",
            "{'Stock': 'BTVRF', 'Company': 'BlueRush Inc', 'Earning Period': 'Q3 2024  Earnings Release'}\n"
          ]
        }
      ]
    },
    {
      "cell_type": "markdown",
      "source": [
        "An analytical strategy around earnings releases can involve several steps to select a subset of companies based on future events data. Here's a description of such a strategy:\n",
        "\n",
        "\n",
        "**Analytical Approach**:\n",
        "\n",
        "Compare the upcoming earnings dates with the historical earnings data to identify patterns and trends.\n",
        "\n",
        "\n",
        "**Selection Criteria**:\n",
        "\n",
        "\n",
        "Incorporate financial ratios like Price-to-Earnings (P/E) ratio, Price-to-Sales (P/S) ratio, and Debt-to-Equity (D/E) ratio to evaluate the financial health of companies.\n",
        "\n",
        "\n",
        "**Risk Management**:\n",
        "\n",
        "Implement risk management strategies by diversifying the portfolio across sectors and market capitalizations.\n",
        "Set stop-loss levels and profit targets based on historical volatility and risk tolerance.\n",
        "\n",
        "\n",
        "**Monitoring and Adjustment**:\n",
        "\n",
        "Continuously monitor news and market sentiment related to selected companies.\n",
        "Adjust the portfolio based on new earnings releases, market trends, and economic indicators.\n",
        "Consider incorporating machine learning models or predictive analytics to enhance decision-making and automate the selection process."
      ],
      "metadata": {
        "id": "D4P_zeQAjb2F"
      }
    }
  ]
}