{
  "nbformat": 4,
  "nbformat_minor": 0,
  "metadata": {
    "colab": {
      "provenance": [],
      "collapsed_sections": [
        "hJXE0oYGvWZx",
        "ZuxsO0wyV_7-",
        "OMfJuMMm4zPW",
        "kfOo5nelaZHM",
        "mByOOusz6Xlw",
        "Oybj1DKqvdFW",
        "8o49sFJy8aFc",
        "7ks4Garj2LMN",
        "Hqt20Zxu9nwH",
        "eVwrvtWGfw58",
        "v3nFf7BGhOtS",
        "Ve8s9G9lhcx3",
        "xBG6qQE_lMAF",
        "XjGq5BZFmT-E"
      ]
    },
    "kernelspec": {
      "name": "python3",
      "display_name": "Python 3"
    },
    "language_info": {
      "name": "python"
    }
  },
  "cells": [
    {
      "cell_type": "markdown",
      "source": [
        "# **Module 1 Homework**\n",
        "In this homework, we're going to download finance data from various sources and make simple calculations/analysis.\n",
        "\n"
      ],
      "metadata": {
        "id": "RM6kISPX4DpT"
      }
    },
    {
      "cell_type": "markdown",
      "source": [
        "### **Question 1:** [Macro] Average growth of GDP in 2023\n",
        "What is the average growth (in %) of GDP in 2023?\n",
        "\n",
        "Download the timeseries Real Gross Domestic Product (GDPC1) from FRED (https://fred.stlouisfed.org/series/GDPC1). Calculate year-over-year (YoY) growth rate (that is, divide current value to one 4 quarters ago). Find the average YoY growth in 2023 (average from 4 YoY numbers). Round to 1 digit after the decimal point: e.g. if you get 5.66% growth => you should answer 5.7"
      ],
      "metadata": {
        "id": "hJXE0oYGvWZx"
      }
    },
    {
      "cell_type": "markdown",
      "source": [
        "#### *Answer*:"
      ],
      "metadata": {
        "id": "ZuxsO0wyV_7-"
      }
    },
    {
      "cell_type": "markdown",
      "source": [
        "To calculate the average growth of GDP in 2023, I'll follow these steps:\n",
        "\n",
        "1. Download the Real Gross Domestic Product (GDPC1) timeseries data from FRED.\n",
        "2. Calculate the year-over-year (YoY) growth rate for each quarter in 2023.\n",
        "3. Find the average YoY growth rate for 2023."
      ],
      "metadata": {
        "id": "JZxMk5pqWDsX"
      }
    },
    {
      "cell_type": "code",
      "execution_count": 1,
      "metadata": {
        "id": "MTLhjyvu0Iai"
      },
      "outputs": [],
      "source": [
        "import pandas_datareader as pdr"
      ]
    },
    {
      "cell_type": "code",
      "source": [
        "# Download GDPC1 from FRED\n",
        "gdpc = pdr.DataReader(\"GDPC1\", \"fred\", start=\"2022-01-01\")"
      ],
      "metadata": {
        "id": "FGwogWyiWj0o"
      },
      "execution_count": 2,
      "outputs": []
    },
    {
      "cell_type": "code",
      "source": [
        "gdpc['gdpc_us_yoy'] = (gdpc[\"GDPC1\"]/gdpc[\"GDPC1\"].shift(4)-1) * 100\n",
        "gdpc.tail()"
      ],
      "metadata": {
        "colab": {
          "base_uri": "https://localhost:8080/",
          "height": 237
        },
        "id": "46bvqo6Aql2L",
        "outputId": "b881c1c9-2e07-41f0-9c45-aee4e97cecb2"
      },
      "execution_count": 3,
      "outputs": [
        {
          "output_type": "execute_result",
          "data": {
            "text/plain": [
              "                GDPC1  gdpc_us_yoy\n",
              "DATE                              \n",
              "2022-10-01  21989.981          NaN\n",
              "2023-01-01  22112.329     1.717927\n",
              "2023-04-01  22225.350     2.382468\n",
              "2023-07-01  22490.692     2.926887\n",
              "2023-10-01  22679.255     3.134491"
            ],
            "text/html": [
              "\n",
              "  <div id=\"df-c6327b55-1401-46c5-8fd2-423d407abc42\" class=\"colab-df-container\">\n",
              "    <div>\n",
              "<style scoped>\n",
              "    .dataframe tbody tr th:only-of-type {\n",
              "        vertical-align: middle;\n",
              "    }\n",
              "\n",
              "    .dataframe tbody tr th {\n",
              "        vertical-align: top;\n",
              "    }\n",
              "\n",
              "    .dataframe thead th {\n",
              "        text-align: right;\n",
              "    }\n",
              "</style>\n",
              "<table border=\"1\" class=\"dataframe\">\n",
              "  <thead>\n",
              "    <tr style=\"text-align: right;\">\n",
              "      <th></th>\n",
              "      <th>GDPC1</th>\n",
              "      <th>gdpc_us_yoy</th>\n",
              "    </tr>\n",
              "    <tr>\n",
              "      <th>DATE</th>\n",
              "      <th></th>\n",
              "      <th></th>\n",
              "    </tr>\n",
              "  </thead>\n",
              "  <tbody>\n",
              "    <tr>\n",
              "      <th>2022-10-01</th>\n",
              "      <td>21989.981</td>\n",
              "      <td>NaN</td>\n",
              "    </tr>\n",
              "    <tr>\n",
              "      <th>2023-01-01</th>\n",
              "      <td>22112.329</td>\n",
              "      <td>1.717927</td>\n",
              "    </tr>\n",
              "    <tr>\n",
              "      <th>2023-04-01</th>\n",
              "      <td>22225.350</td>\n",
              "      <td>2.382468</td>\n",
              "    </tr>\n",
              "    <tr>\n",
              "      <th>2023-07-01</th>\n",
              "      <td>22490.692</td>\n",
              "      <td>2.926887</td>\n",
              "    </tr>\n",
              "    <tr>\n",
              "      <th>2023-10-01</th>\n",
              "      <td>22679.255</td>\n",
              "      <td>3.134491</td>\n",
              "    </tr>\n",
              "  </tbody>\n",
              "</table>\n",
              "</div>\n",
              "    <div class=\"colab-df-buttons\">\n",
              "\n",
              "  <div class=\"colab-df-container\">\n",
              "    <button class=\"colab-df-convert\" onclick=\"convertToInteractive('df-c6327b55-1401-46c5-8fd2-423d407abc42')\"\n",
              "            title=\"Convert this dataframe to an interactive table.\"\n",
              "            style=\"display:none;\">\n",
              "\n",
              "  <svg xmlns=\"http://www.w3.org/2000/svg\" height=\"24px\" viewBox=\"0 -960 960 960\">\n",
              "    <path d=\"M120-120v-720h720v720H120Zm60-500h600v-160H180v160Zm220 220h160v-160H400v160Zm0 220h160v-160H400v160ZM180-400h160v-160H180v160Zm440 0h160v-160H620v160ZM180-180h160v-160H180v160Zm440 0h160v-160H620v160Z\"/>\n",
              "  </svg>\n",
              "    </button>\n",
              "\n",
              "  <style>\n",
              "    .colab-df-container {\n",
              "      display:flex;\n",
              "      gap: 12px;\n",
              "    }\n",
              "\n",
              "    .colab-df-convert {\n",
              "      background-color: #E8F0FE;\n",
              "      border: none;\n",
              "      border-radius: 50%;\n",
              "      cursor: pointer;\n",
              "      display: none;\n",
              "      fill: #1967D2;\n",
              "      height: 32px;\n",
              "      padding: 0 0 0 0;\n",
              "      width: 32px;\n",
              "    }\n",
              "\n",
              "    .colab-df-convert:hover {\n",
              "      background-color: #E2EBFA;\n",
              "      box-shadow: 0px 1px 2px rgba(60, 64, 67, 0.3), 0px 1px 3px 1px rgba(60, 64, 67, 0.15);\n",
              "      fill: #174EA6;\n",
              "    }\n",
              "\n",
              "    .colab-df-buttons div {\n",
              "      margin-bottom: 4px;\n",
              "    }\n",
              "\n",
              "    [theme=dark] .colab-df-convert {\n",
              "      background-color: #3B4455;\n",
              "      fill: #D2E3FC;\n",
              "    }\n",
              "\n",
              "    [theme=dark] .colab-df-convert:hover {\n",
              "      background-color: #434B5C;\n",
              "      box-shadow: 0px 1px 3px 1px rgba(0, 0, 0, 0.15);\n",
              "      filter: drop-shadow(0px 1px 2px rgba(0, 0, 0, 0.3));\n",
              "      fill: #FFFFFF;\n",
              "    }\n",
              "  </style>\n",
              "\n",
              "    <script>\n",
              "      const buttonEl =\n",
              "        document.querySelector('#df-c6327b55-1401-46c5-8fd2-423d407abc42 button.colab-df-convert');\n",
              "      buttonEl.style.display =\n",
              "        google.colab.kernel.accessAllowed ? 'block' : 'none';\n",
              "\n",
              "      async function convertToInteractive(key) {\n",
              "        const element = document.querySelector('#df-c6327b55-1401-46c5-8fd2-423d407abc42');\n",
              "        const dataTable =\n",
              "          await google.colab.kernel.invokeFunction('convertToInteractive',\n",
              "                                                    [key], {});\n",
              "        if (!dataTable) return;\n",
              "\n",
              "        const docLinkHtml = 'Like what you see? Visit the ' +\n",
              "          '<a target=\"_blank\" href=https://colab.research.google.com/notebooks/data_table.ipynb>data table notebook</a>'\n",
              "          + ' to learn more about interactive tables.';\n",
              "        element.innerHTML = '';\n",
              "        dataTable['output_type'] = 'display_data';\n",
              "        await google.colab.output.renderOutput(dataTable, element);\n",
              "        const docLink = document.createElement('div');\n",
              "        docLink.innerHTML = docLinkHtml;\n",
              "        element.appendChild(docLink);\n",
              "      }\n",
              "    </script>\n",
              "  </div>\n",
              "\n",
              "\n",
              "<div id=\"df-7c53a93a-d33d-4bd8-b932-a4876c7cefec\">\n",
              "  <button class=\"colab-df-quickchart\" onclick=\"quickchart('df-7c53a93a-d33d-4bd8-b932-a4876c7cefec')\"\n",
              "            title=\"Suggest charts\"\n",
              "            style=\"display:none;\">\n",
              "\n",
              "<svg xmlns=\"http://www.w3.org/2000/svg\" height=\"24px\"viewBox=\"0 0 24 24\"\n",
              "     width=\"24px\">\n",
              "    <g>\n",
              "        <path d=\"M19 3H5c-1.1 0-2 .9-2 2v14c0 1.1.9 2 2 2h14c1.1 0 2-.9 2-2V5c0-1.1-.9-2-2-2zM9 17H7v-7h2v7zm4 0h-2V7h2v10zm4 0h-2v-4h2v4z\"/>\n",
              "    </g>\n",
              "</svg>\n",
              "  </button>\n",
              "\n",
              "<style>\n",
              "  .colab-df-quickchart {\n",
              "      --bg-color: #E8F0FE;\n",
              "      --fill-color: #1967D2;\n",
              "      --hover-bg-color: #E2EBFA;\n",
              "      --hover-fill-color: #174EA6;\n",
              "      --disabled-fill-color: #AAA;\n",
              "      --disabled-bg-color: #DDD;\n",
              "  }\n",
              "\n",
              "  [theme=dark] .colab-df-quickchart {\n",
              "      --bg-color: #3B4455;\n",
              "      --fill-color: #D2E3FC;\n",
              "      --hover-bg-color: #434B5C;\n",
              "      --hover-fill-color: #FFFFFF;\n",
              "      --disabled-bg-color: #3B4455;\n",
              "      --disabled-fill-color: #666;\n",
              "  }\n",
              "\n",
              "  .colab-df-quickchart {\n",
              "    background-color: var(--bg-color);\n",
              "    border: none;\n",
              "    border-radius: 50%;\n",
              "    cursor: pointer;\n",
              "    display: none;\n",
              "    fill: var(--fill-color);\n",
              "    height: 32px;\n",
              "    padding: 0;\n",
              "    width: 32px;\n",
              "  }\n",
              "\n",
              "  .colab-df-quickchart:hover {\n",
              "    background-color: var(--hover-bg-color);\n",
              "    box-shadow: 0 1px 2px rgba(60, 64, 67, 0.3), 0 1px 3px 1px rgba(60, 64, 67, 0.15);\n",
              "    fill: var(--button-hover-fill-color);\n",
              "  }\n",
              "\n",
              "  .colab-df-quickchart-complete:disabled,\n",
              "  .colab-df-quickchart-complete:disabled:hover {\n",
              "    background-color: var(--disabled-bg-color);\n",
              "    fill: var(--disabled-fill-color);\n",
              "    box-shadow: none;\n",
              "  }\n",
              "\n",
              "  .colab-df-spinner {\n",
              "    border: 2px solid var(--fill-color);\n",
              "    border-color: transparent;\n",
              "    border-bottom-color: var(--fill-color);\n",
              "    animation:\n",
              "      spin 1s steps(1) infinite;\n",
              "  }\n",
              "\n",
              "  @keyframes spin {\n",
              "    0% {\n",
              "      border-color: transparent;\n",
              "      border-bottom-color: var(--fill-color);\n",
              "      border-left-color: var(--fill-color);\n",
              "    }\n",
              "    20% {\n",
              "      border-color: transparent;\n",
              "      border-left-color: var(--fill-color);\n",
              "      border-top-color: var(--fill-color);\n",
              "    }\n",
              "    30% {\n",
              "      border-color: transparent;\n",
              "      border-left-color: var(--fill-color);\n",
              "      border-top-color: var(--fill-color);\n",
              "      border-right-color: var(--fill-color);\n",
              "    }\n",
              "    40% {\n",
              "      border-color: transparent;\n",
              "      border-right-color: var(--fill-color);\n",
              "      border-top-color: var(--fill-color);\n",
              "    }\n",
              "    60% {\n",
              "      border-color: transparent;\n",
              "      border-right-color: var(--fill-color);\n",
              "    }\n",
              "    80% {\n",
              "      border-color: transparent;\n",
              "      border-right-color: var(--fill-color);\n",
              "      border-bottom-color: var(--fill-color);\n",
              "    }\n",
              "    90% {\n",
              "      border-color: transparent;\n",
              "      border-bottom-color: var(--fill-color);\n",
              "    }\n",
              "  }\n",
              "</style>\n",
              "\n",
              "  <script>\n",
              "    async function quickchart(key) {\n",
              "      const quickchartButtonEl =\n",
              "        document.querySelector('#' + key + ' button');\n",
              "      quickchartButtonEl.disabled = true;  // To prevent multiple clicks.\n",
              "      quickchartButtonEl.classList.add('colab-df-spinner');\n",
              "      try {\n",
              "        const charts = await google.colab.kernel.invokeFunction(\n",
              "            'suggestCharts', [key], {});\n",
              "      } catch (error) {\n",
              "        console.error('Error during call to suggestCharts:', error);\n",
              "      }\n",
              "      quickchartButtonEl.classList.remove('colab-df-spinner');\n",
              "      quickchartButtonEl.classList.add('colab-df-quickchart-complete');\n",
              "    }\n",
              "    (() => {\n",
              "      let quickchartButtonEl =\n",
              "        document.querySelector('#df-7c53a93a-d33d-4bd8-b932-a4876c7cefec button');\n",
              "      quickchartButtonEl.style.display =\n",
              "        google.colab.kernel.accessAllowed ? 'block' : 'none';\n",
              "    })();\n",
              "  </script>\n",
              "</div>\n",
              "\n",
              "    </div>\n",
              "  </div>\n"
            ],
            "application/vnd.google.colaboratory.intrinsic+json": {
              "type": "dataframe",
              "summary": "{\n  \"name\": \"gdpc\",\n  \"rows\": 5,\n  \"fields\": [\n    {\n      \"column\": \"DATE\",\n      \"properties\": {\n        \"dtype\": \"date\",\n        \"min\": \"2022-10-01 00:00:00\",\n        \"max\": \"2023-10-01 00:00:00\",\n        \"num_unique_values\": 5,\n        \"samples\": [\n          \"2023-01-01 00:00:00\",\n          \"2023-10-01 00:00:00\",\n          \"2023-04-01 00:00:00\"\n        ],\n        \"semantic_type\": \"\",\n        \"description\": \"\"\n      }\n    },\n    {\n      \"column\": \"GDPC1\",\n      \"properties\": {\n        \"dtype\": \"number\",\n        \"std\": 281.55881077547554,\n        \"min\": 21989.981,\n        \"max\": 22679.255,\n        \"num_unique_values\": 5,\n        \"samples\": [\n          22112.329,\n          22679.255,\n          22225.35\n        ],\n        \"semantic_type\": \"\",\n        \"description\": \"\"\n      }\n    },\n    {\n      \"column\": \"gdpc_us_yoy\",\n      \"properties\": {\n        \"dtype\": \"number\",\n        \"std\": 0.6334351446296713,\n        \"min\": 1.7179273017444263,\n        \"max\": 3.1344911121114816,\n        \"num_unique_values\": 4,\n        \"samples\": [\n          2.3824681594386554,\n          3.1344911121114816,\n          1.7179273017444263\n        ],\n        \"semantic_type\": \"\",\n        \"description\": \"\"\n      }\n    }\n  ]\n}"
            }
          },
          "metadata": {},
          "execution_count": 3
        }
      ]
    },
    {
      "cell_type": "code",
      "source": [
        "gdpc_2023 = gdpc.loc[\"2023\"]"
      ],
      "metadata": {
        "id": "k9M6u8gzMJHn"
      },
      "execution_count": 4,
      "outputs": []
    },
    {
      "cell_type": "code",
      "source": [
        "# Average YoY growth rate for 2023\n",
        "average_growth_2023 = gdpc_2023['gdpc_us_yoy'].mean()"
      ],
      "metadata": {
        "id": "N0DMo283rjPf"
      },
      "execution_count": 5,
      "outputs": []
    },
    {
      "cell_type": "code",
      "source": [
        "print(f\"The average growth of GDP in 2023 was {round(average_growth_2023,1)}%\")"
      ],
      "metadata": {
        "colab": {
          "base_uri": "https://localhost:8080/"
        },
        "id": "dlyYUoWCXrlf",
        "outputId": "0d667f8c-1200-4092-b3c0-3812e278c7fa"
      },
      "execution_count": 6,
      "outputs": [
        {
          "output_type": "stream",
          "name": "stdout",
          "text": [
            "The average growth of GDP in 2023 was 2.5%\n"
          ]
        }
      ]
    },
    {
      "cell_type": "markdown",
      "source": [
        "OR"
      ],
      "metadata": {
        "id": "jPXi1OtrR3ch"
      }
    },
    {
      "cell_type": "code",
      "source": [
        "# Get the current date\n",
        "from datetime import date   #, datetime, timedelta\n",
        "\n",
        "end = date.today()\n",
        "print(f'Year = {end.year}; month= {end.month}; day={end.day}')\n",
        "\n",
        "# Set the start date to 70 years ago\n",
        "start = date(year=end.year-70, month=end.month, day=end.day)\n",
        "print(f'Period for indexes: {start} to {end} ')\n",
        "\n",
        "# Fetch the GDPC1 data from FRED\n",
        "gdpc1 = pdr.DataReader(\"GDPC1\", \"fred\", start=start)\n",
        "\n",
        "# Calculate the YoY growth rate\n",
        "gdpc1['YoY_Growth'] = gdpc1['GDPC1'].pct_change(periods=4) * 100\n",
        "\n",
        "# Calculate the average YoY growth rate for 2023\n",
        "avg_yoy_2023 = gdpc1.loc['2023-01-01':'2023-12-31', 'YoY_Growth'].mean()\n",
        "\n",
        "print(f\"The average YoY growth rate in 2023 is: {avg_yoy_2023:.1f}%\")"
      ],
      "metadata": {
        "colab": {
          "base_uri": "https://localhost:8080/"
        },
        "id": "UCrU2GQIR5Kr",
        "outputId": "302e6264-0bc7-41a9-c2bd-83023bf47a0a"
      },
      "execution_count": 9,
      "outputs": [
        {
          "output_type": "stream",
          "name": "stdout",
          "text": [
            "Year = 2024; month= 4; day=23\n",
            "Period for indexes: 1954-04-23 to 2024-04-23 \n",
            "The average YoY growth rate in 2023 is: 2.5%\n"
          ]
        }
      ]
    },
    {
      "cell_type": "markdown",
      "source": [
        "### **Question 2**. [Macro] Inverse \"Treasury Yield\"\n",
        "Find the min value of (dgs10-dgs2) after since year 2000 (2000-01-01) and write it down as an answer, round to 1 digit after the decimal point.\n",
        "\n",
        "Download DGS2 and DGS10 interest rates series (https://fred.stlouisfed.org/series/DGS2, https://fred.stlouisfed.org/series/DGS10). Join them together to one dataframe on date (you might need to read about pandas.DataFrame.join()), calculate the difference dgs10-dgs2 daily.\n",
        "\n",
        "(Additional: think about what does the \"inverted yield curve\" mean for the market and investors? do you see the same thing in your country/market of interest? Do you think it can be a good predictive feature for the models?)"
      ],
      "metadata": {
        "id": "OMfJuMMm4zPW"
      }
    },
    {
      "cell_type": "markdown",
      "source": [
        "#### *Answer*"
      ],
      "metadata": {
        "id": "kfOo5nelaZHM"
      }
    },
    {
      "cell_type": "code",
      "source": [
        "# Download DGS2 and DGS10 interest rates series\n",
        "dgs2 = pdr.DataReader(\"DGS2\", \"fred\", start=\"2000-01-01\")\n",
        "dgs10 = pdr.DataReader(\"DGS10\", \"fred\", start=\"2000-01-01\")"
      ],
      "metadata": {
        "id": "DCWzJERTaJQq"
      },
      "execution_count": 7,
      "outputs": []
    },
    {
      "cell_type": "code",
      "source": [
        "# Join the two dataframes on date\n",
        "interest_rates = dgs10.join(dgs2, lsuffix=\"_10\", rsuffix=\"_2\")"
      ],
      "metadata": {
        "id": "FW19fOY5aLeS"
      },
      "execution_count": 8,
      "outputs": []
    },
    {
      "cell_type": "code",
      "source": [
        "# Calculate the difference (dgs10 - dgs2) daily\n",
        "interest_rates['difference'] = interest_rates['DGS10'] - interest_rates['DGS2']"
      ],
      "metadata": {
        "id": "CeLwrS1laOqn"
      },
      "execution_count": 9,
      "outputs": []
    },
    {
      "cell_type": "code",
      "source": [
        "# Find the min value of the difference since year 2000\n",
        "min_value = interest_rates['difference'].min()"
      ],
      "metadata": {
        "id": "98cHTxikaRKw"
      },
      "execution_count": 10,
      "outputs": []
    },
    {
      "cell_type": "code",
      "source": [
        "# Round to 1 decimal place\n",
        "min_value_rounded = round(min_value, 1)\n",
        "\n",
        "print(f\"The minimum value of (DGS10 - DGS2) since year 2000 is {min_value_rounded}%.\")"
      ],
      "metadata": {
        "colab": {
          "base_uri": "https://localhost:8080/"
        },
        "id": "Zx_e2qH2aV2B",
        "outputId": "19543ddf-d920-438b-bcd9-71d32ca1fbc0"
      },
      "execution_count": 11,
      "outputs": [
        {
          "output_type": "stream",
          "name": "stdout",
          "text": [
            "The minimum value of (DGS10 - DGS2) since year 2000 is -1.1%.\n"
          ]
        }
      ]
    },
    {
      "cell_type": "markdown",
      "source": [
        "Additional:  In the context of other countries/markets, the inverted yield curve can also be a useful predictive feature for economic models. For example, in the Eurozone, the European Central Bank (ECB) has also noted the usefulness of the yield curve inversion as a signal of potential recession risks.\n",
        "\n",
        "However, it's important to note that the relationship between the yield curve and recessions is not always straightforward. The yield curve can be distorted by factors such as central bank asset purchase programs and foreign central bank reserve accumulation, which can compress long-term yields and lead to an inversion even in the absence of imminent recession risks.\n",
        "\n",
        "Therefore, while the inverted yield curve remains a valuable indicator, it should be considered alongside other economic data and factors when assessing the likelihood of a future recession. A comprehensive analysis is necessary to make informed investment decisions."
      ],
      "metadata": {
        "id": "VULUMWuMSlHi"
      }
    },
    {
      "cell_type": "markdown",
      "source": [
        "### **Question 3.** [Index] Which Index is better recently?\n",
        "Compare S&P 500 and IPC Mexico indexes by the 5 year growth and write down the largest value as an answer (%)\n",
        "\n",
        "Download on Yahoo Finance two daily index prices for S&P 500 (^GSPC, https://finance.yahoo.com/quote/%5EGSPC/) and IPC Mexico (^MXX, https://finance.yahoo.com/quote/%5EMXX/). Compare 5Y growth for both (between 2019-04-09 and 2024-04-09). Select the higher growing index and write down the growth in % (closest integer %). E.g. if ratio end/start was 2.0925 (or growth of 109.25%), you need to write down 109 as your answer.\n",
        "\n",
        "(Additional: think of other indexes and try to download stats and compare the growth? Do create 10Y and 20Y growth stats. What is an average yearly growth rate (CAGR) for each of the indexes you select?)"
      ],
      "metadata": {
        "id": "mByOOusz6Xlw"
      }
    },
    {
      "cell_type": "markdown",
      "source": [
        "#### *Answer*"
      ],
      "metadata": {
        "id": "Oybj1DKqvdFW"
      }
    },
    {
      "cell_type": "code",
      "source": [
        "!pip install -qU yfinance"
      ],
      "metadata": {
        "id": "crSuFOTQa8bb"
      },
      "execution_count": 10,
      "outputs": []
    },
    {
      "cell_type": "code",
      "source": [
        "import yfinance as yf\n",
        "\n",
        "# Define the start and end dates for the comparison\n",
        "start_date = \"2019-04-09\"\n",
        "end_date = \"2024-04-09\""
      ],
      "metadata": {
        "id": "hYp4SZkubNdf"
      },
      "execution_count": 16,
      "outputs": []
    },
    {
      "cell_type": "code",
      "source": [
        "# Download S&P 500 index data\n",
        "sp500 = yf.Ticker(\"^GSPC\")\n",
        "sp500_data = sp500.history(start=start_date, end=end_date)"
      ],
      "metadata": {
        "id": "EiPYYF90bQRJ"
      },
      "execution_count": 17,
      "outputs": []
    },
    {
      "cell_type": "code",
      "source": [
        "# Download IPC Mexico index data\n",
        "ipc_mexico = yf.Ticker(\"^MXX\")\n",
        "ipc_mexico_data = ipc_mexico.history(start=start_date, end=end_date)"
      ],
      "metadata": {
        "id": "zOxUu-x4Taoz"
      },
      "execution_count": 18,
      "outputs": []
    },
    {
      "cell_type": "code",
      "source": [
        "# Calculate period growth\n",
        "sp500_growth = (sp500_data['Close'].iloc[-1] / sp500_data['Close'].iloc[0]) - 1\n",
        "ipc_mexico_growth = (ipc_mexico_data['Close'].iloc[-1] / ipc_mexico_data['Close'].iloc[0]) - 1"
      ],
      "metadata": {
        "id": "iC942XcybWmm"
      },
      "execution_count": 19,
      "outputs": []
    },
    {
      "cell_type": "code",
      "source": [
        "# Determine the index with the higher growth\n",
        "if sp500_growth > ipc_mexico_growth:\n",
        "    print(f\"S&P 500 index had the higher 5-year growth at {round(sp500_growth * 100)}%.\")\n",
        "else:\n",
        "    print(f\"IPC Mexico index had the higher 5-year growth at {round(ipc_mexico_growth * 100)}%.\")"
      ],
      "metadata": {
        "colab": {
          "base_uri": "https://localhost:8080/"
        },
        "id": "Fh-1Fr9H-ugR",
        "outputId": "9cb73821-008d-4b11-c123-d1e3b21e6174"
      },
      "execution_count": 20,
      "outputs": [
        {
          "output_type": "stream",
          "name": "stdout",
          "text": [
            "S&P 500 index had the higher 5-year growth at 81%.\n"
          ]
        }
      ]
    },
    {
      "cell_type": "markdown",
      "source": [
        "Let me explore **S&P 500** and **NASDAQ** Composite:"
      ],
      "metadata": {
        "id": "zUOMpK3wwAfQ"
      }
    },
    {
      "cell_type": "code",
      "source": [
        "import pandas as pd\n",
        "\n",
        "\n",
        "# Define the indexes\n",
        "indexes = [\"^GSPC\", \"^IXIC\"]\n",
        "\n",
        "# Download the historical data for each index\n",
        "index_data = {}\n",
        "for index in indexes:\n",
        "    ticker = yf.Ticker(index)\n",
        "    index_data[index] = ticker.history(period=\"max\")"
      ],
      "metadata": {
        "id": "tUX6XlquwfKe"
      },
      "execution_count": 22,
      "outputs": []
    },
    {
      "cell_type": "code",
      "source": [
        "# Calculate the 10-year and 20-year CAGR for each index\n",
        "cagr_10y = {}\n",
        "cagr_20y = {}\n",
        "for index, df in index_data.items():\n",
        "    start_10y = df.index[-251 * 10]\n",
        "    start_20y = df.index[-251 * 20]\n",
        "    end = df.index[-1]\n",
        "\n",
        "    cagr_10y[index] = ((df.loc[end, 'Close'] / df.loc[start_10y, 'Close'])**(1/10)) - 1\n",
        "    cagr_20y[index] = ((df.loc[end, 'Close'] / df.loc[start_20y, 'Close'])**(1/20)) - 1"
      ],
      "metadata": {
        "id": "ZkhE-r1YVMFq"
      },
      "execution_count": 23,
      "outputs": []
    },
    {
      "cell_type": "code",
      "source": [
        "# Print the results\n",
        "print(\"10-year CAGR:\")\n",
        "for index, cagr in cagr_10y.items():\n",
        "    print(f\"{index}: {round(cagr * 100, 2)}%\")\n",
        "\n",
        "print(\"\\n20-year CAGR:\")\n",
        "for index, cagr in cagr_20y.items():\n",
        "    print(f\"{index}: {round(cagr * 100, 2)}%\")"
      ],
      "metadata": {
        "colab": {
          "base_uri": "https://localhost:8080/"
        },
        "id": "hUbbsV48VgyJ",
        "outputId": "c182eda3-a97b-4b8d-a28b-5a9c91023b4b"
      },
      "execution_count": 24,
      "outputs": [
        {
          "output_type": "stream",
          "name": "stdout",
          "text": [
            "10-year CAGR:\n",
            "^GSPC: 10.29%\n",
            "^IXIC: 14.12%\n",
            "\n",
            "20-year CAGR:\n",
            "^GSPC: 7.89%\n",
            "^IXIC: 10.97%\n"
          ]
        }
      ]
    },
    {
      "cell_type": "markdown",
      "source": [
        "### **Question 4.** [Stocks OHLCV] 52-weeks range ratio (2023) for the selected stocks\n",
        "Find the largest range ratio [=(max-min)/max] of Adj.Close prices in 2023\n",
        "\n",
        "Download the 2023 daily OHLCV data on Yahoo Finance for top5 stocks on earnings (https://companiesmarketcap.com/most-profitable-companies/): 2222.SR,BRK-B, AAPL, MSFT, GOOG, JPM.\n",
        "\n",
        "Here is the example data you should see in Pandas for \"2222.SR\": https://finance.yahoo.com/quote/2222.SR/history\n",
        "\n",
        "Calculate maximum-minimim \"Adj.Close\" price for each stock and divide it by the maximum \"Adj.Close\" value. Round the result to two decimal places (e.g. 0.1575 will be 0.16)\n",
        "\n",
        "(Additional: why this may be important for your research?)"
      ],
      "metadata": {
        "id": "8o49sFJy8aFc"
      }
    },
    {
      "cell_type": "markdown",
      "source": [
        "#### *Answer*"
      ],
      "metadata": {
        "id": "7ks4Garj2LMN"
      }
    },
    {
      "cell_type": "code",
      "source": [
        "# Download the daily OHLCV data for each stock for the year 2023\n",
        "start_date = '2023-01-01'\n",
        "end_date = '2023-12-31'\n",
        "tickers = ['2222.SR', 'BRK-B', 'AAPL', 'MSFT', 'GOOG', 'JPM']\n",
        "data = {}\n",
        "\n",
        "for ticker in tickers:\n",
        "    df = yf.download(ticker, start=start_date, end=end_date)\n",
        "    data[ticker] = df"
      ],
      "metadata": {
        "colab": {
          "base_uri": "https://localhost:8080/"
        },
        "id": "Uu3wCDQlyEar",
        "outputId": "f9d4c8a5-1581-4ee3-a3e2-56853d439e93"
      },
      "execution_count": 25,
      "outputs": [
        {
          "output_type": "stream",
          "name": "stderr",
          "text": [
            "[*********************100%%**********************]  1 of 1 completed\n",
            "[*********************100%%**********************]  1 of 1 completed\n",
            "[*********************100%%**********************]  1 of 1 completed\n",
            "[*********************100%%**********************]  1 of 1 completed\n",
            "[*********************100%%**********************]  1 of 1 completed\n",
            "[*********************100%%**********************]  1 of 1 completed\n"
          ]
        }
      ]
    },
    {
      "cell_type": "code",
      "source": [
        "# Calculate the range ratio for each stock\n",
        "range_ratios = {}\n",
        "for ticker, df in data.items():\n",
        "    max_price = df['Adj Close'].max()\n",
        "    min_price = df['Adj Close'].min()\n",
        "    range_ratio = round((max_price - min_price) / max_price, 2)\n",
        "    range_ratios[ticker] = range_ratio"
      ],
      "metadata": {
        "id": "x9e6sf8eWbek"
      },
      "execution_count": 26,
      "outputs": []
    },
    {
      "cell_type": "code",
      "source": [
        "# Find the largest range ratio\n",
        "largest_range_ratio = max(range_ratios.values())\n",
        "largest_stock = [k for k, v in range_ratios.items() if v == largest_range_ratio][0]\n",
        "\n",
        "print(f\"The stock with the largest 52-week range ratio (2023) is {largest_stock} with a ratio of {largest_range_ratio}\")"
      ],
      "metadata": {
        "colab": {
          "base_uri": "https://localhost:8080/"
        },
        "id": "fF3VbZeB0Pfp",
        "outputId": "eea67d53-6faf-4230-beb0-9549119306b4"
      },
      "execution_count": 27,
      "outputs": [
        {
          "output_type": "stream",
          "name": "stdout",
          "text": [
            "The stock with the largest 52-week range ratio (2023) is MSFT with a ratio of 0.42\n"
          ]
        }
      ]
    },
    {
      "cell_type": "markdown",
      "source": [
        "Additional: The range ratio is an important metric for understanding the volatility of a stock's price. A higher range ratio indicates a larger difference between the highest and lowest prices, which can be a sign of higher volatility. This information can be useful for investors when evaluating the risk and potential returns of a stock.\n",
        "\n",
        "For example, a stock with a high range ratio may be more attractive to investors who are willing to take on higher risk in exchange for the potential for higher returns. Conversely, a stock with a low range ratio may be more appealing to investors who are more risk-averse and prefer more stable returns.\n",
        "\n",
        "Additionally, the range ratio can be used in conjunction with other technical analysis indicators to identify potential trading opportunities or to assess the overall market conditions. For instance, a stock with a high range ratio may be more susceptible to sudden price swings, which could present opportunities for short-term traders."
      ],
      "metadata": {
        "id": "KgHFP6H3XEI6"
      }
    },
    {
      "cell_type": "markdown",
      "source": [
        "### **Question 5.** [Stocks] Dividend Yield\n",
        "Find the largest dividend yield for the same set of stocks\n",
        "\n",
        "Use the same list of companies (2222.SR,BRK-B, AAPL, MSFT, GOOG, JPM) and download all dividends paid in 2023. You can use get_actions() method or .dividends field in yfinance library (https://github.com/ranaroussi/yfinance?tab=readme-ov-file#quick-start)\n",
        "\n",
        "Sum up all dividends paid in 2023 per company and divide each value by the closing price (Adj.Close) at the last trading day of the year.\n",
        "\n",
        "Find the maximm value in % and round to 1 digit after the decimal point. (E.g., if you obtained $1.25 dividends paid and the end year stock price is $100, the dividend yield is 1.25% -- and your answer should be equal to 1.3)"
      ],
      "metadata": {
        "id": "Hqt20Zxu9nwH"
      }
    },
    {
      "cell_type": "markdown",
      "source": [
        "#### *Answer*"
      ],
      "metadata": {
        "id": "eVwrvtWGfw58"
      }
    },
    {
      "cell_type": "code",
      "source": [
        "# Set the timezone\n",
        "import pytz\n",
        "utc = pytz.UTC\n",
        "\n",
        "# Define the list of stocks\n",
        "tickers = ['2222.SR', 'BRK-B', 'AAPL', 'MSFT', 'GOOG', 'JPM']\n",
        "\n",
        "# Initialize an empty dictionary to store the results\n",
        "results = {}\n",
        "\n",
        "# Loop through each stock\n",
        "for ticker in tickers:\n",
        "    # Get the stock data\n",
        "    stock = yf.Ticker(ticker)\n",
        "\n",
        "    # Get the dividends paid in 2023\n",
        "    dividends_2023 = stock.dividends[utc.localize(pd.Timestamp('2023-01-01')):utc.localize(pd.Timestamp('2023-12-31'))]\n",
        "\n",
        "    # Sum up the dividends\n",
        "    total_dividends = dividends_2023.sum()\n",
        "\n",
        "    # Get the closing price at the last trading day of 2023\n",
        "    last_price = stock.history(period='1y')['Close'][-1]\n",
        "\n",
        "    # Calculate the dividend yield\n",
        "    dividend_yield = (total_dividends / last_price) * 100\n",
        "\n",
        "    # Round the dividend yield to 1 decimal place\n",
        "    dividend_yield = round(dividend_yield, 1)\n",
        "\n",
        "    # Store the results in the dictionary\n",
        "    results[ticker] = dividend_yield\n",
        "\n",
        "# Find the maximum dividend yield\n",
        "max_dividend_yield = max(results.values())\n",
        "max_dividend_stock = [k for k, v in results.items() if v == max_dividend_yield][0]\n",
        "\n",
        "# Print the result\n",
        "print(f\"The maximum dividend yield is {max_dividend_yield}%. for {max_dividend_stock}\")"
      ],
      "metadata": {
        "colab": {
          "base_uri": "https://localhost:8080/"
        },
        "id": "R5EV09IwYkpQ",
        "outputId": "da63548a-ecfd-4d8a-9187-5d834c73ce72"
      },
      "execution_count": 31,
      "outputs": [
        {
          "output_type": "stream",
          "name": "stdout",
          "text": [
            "The maximum dividend yield is 3.0%. for 2222.SR\n"
          ]
        }
      ]
    },
    {
      "cell_type": "markdown",
      "source": [
        "### **Question 6**. [Exploratory] Investigate new metrics\n",
        "Free text answer\n",
        "\n",
        "Download and explore a few additional metrics or time series that might be valuable for your project and write down why (briefly).\n",
        "\n"
      ],
      "metadata": {
        "id": "v3nFf7BGhOtS"
      }
    },
    {
      "cell_type": "markdown",
      "source": [
        "#### *Answer*"
      ],
      "metadata": {
        "id": "Ve8s9G9lhcx3"
      }
    },
    {
      "cell_type": "markdown",
      "source": [
        "Here are a few examples of these metrics and their potential value:\n",
        "\n",
        "**Volatility (Volatility Index - VIX)**: Volatility measures the variation in asset prices over time. A high volatility index like VIX indicates market uncertainty and potential risks. Monitoring VIX can help in assessing market sentiment and adjusting investment strategies accordingly.\n",
        "\n",
        "**Leverage Ratios (Debt-to-Equity, Debt-to-Assets)**: These ratios evaluate a company's financial leverage and risk exposure. High leverage ratios may indicate higher financial risk, while lower ratios suggest better financial stability. Analyzing these ratios helps in understanding a company's capital structure and financial health.\n",
        "\n",
        "**Price-to-Earnings Ratio (P/E Ratio)**: The P/E ratio compares a company's current stock price to its earnings per share (EPS). A high P/E ratio may indicate that a company's stock is overvalued, while a low P/E ratio may suggest undervaluation. Monitoring P/E ratios helps in identifying potential investment opportunities or overvalued stocks.\n",
        "\n",
        "**Cash Flow Metrics (Operating Cash Flow, Free Cash Flow)**: Cash flow metrics assess a company's ability to generate cash from its core operations and available cash after capital expenditures. Positive cash flow indicates financial health and sustainability, while negative cash flow may raise concerns. Analyzing cash flow metrics provides insights into a company's liquidity and financial performance.\n",
        "\n",
        "**Technical Indicators (Moving Averages, Relative Strength Index - RSI)**: Technical indicators use historical price and volume data to analyze market trends and momentum. Moving averages help in identifying price trends, while RSI indicates overbought or oversold conditions. Incorporating technical indicators into analysis complements fundamental analysis and aids in making informed trading decisions."
      ],
      "metadata": {
        "id": "qjQ4HnWIgwSQ"
      }
    },
    {
      "cell_type": "markdown",
      "source": [
        "To try 2 of these metrics out:"
      ],
      "metadata": {
        "id": "xuNV4VfAipV7"
      }
    },
    {
      "cell_type": "code",
      "source": [
        "# Download Volatility Index (VIX) data\n",
        "vix = yf.Ticker(\"^VIX\")\n",
        "vix_data = vix.history(start=\"2023-01-01\", end=\"2023-12-31\")\n",
        "# Print the VIX data\n",
        "print(vix_data.head())"
      ],
      "metadata": {
        "colab": {
          "base_uri": "https://localhost:8080/"
        },
        "id": "LOuFmc9EiuSP",
        "outputId": "fcc05f08-38b9-47dd-e5b6-fcc00110fafc"
      },
      "execution_count": 32,
      "outputs": [
        {
          "output_type": "stream",
          "name": "stdout",
          "text": [
            "                                Open   High        Low      Close  Volume  \\\n",
            "Date                                                                        \n",
            "2023-01-03 00:00:00-06:00  23.090000  23.76  22.730000  22.900000       0   \n",
            "2023-01-04 00:00:00-06:00  22.930000  23.27  21.940001  22.010000       0   \n",
            "2023-01-05 00:00:00-06:00  22.200001  22.92  21.969999  22.459999       0   \n",
            "2023-01-06 00:00:00-06:00  22.690001  22.90  21.000000  21.129999       0   \n",
            "2023-01-09 00:00:00-06:00  21.750000  21.98  21.270000  21.969999       0   \n",
            "\n",
            "                           Dividends  Stock Splits  \n",
            "Date                                                \n",
            "2023-01-03 00:00:00-06:00        0.0           0.0  \n",
            "2023-01-04 00:00:00-06:00        0.0           0.0  \n",
            "2023-01-05 00:00:00-06:00        0.0           0.0  \n",
            "2023-01-06 00:00:00-06:00        0.0           0.0  \n",
            "2023-01-09 00:00:00-06:00        0.0           0.0  \n"
          ]
        }
      ]
    },
    {
      "cell_type": "code",
      "source": [
        "# Download Price-to-Earnings Ratio (P/E Ratio) data for AAPL\n",
        "stock_ticker = \"AAPL\"\n",
        "stock = yf.Ticker(stock_ticker)\n",
        "pe_ratio_data = stock.info[\"trailingPE\"]\n",
        "\n",
        "# Print the P/E Ratio data\n",
        "print(f\"Price-to-Earnings Ratio (P/E Ratio) for {stock_ticker}: {pe_ratio_data}\")"
      ],
      "metadata": {
        "colab": {
          "base_uri": "https://localhost:8080/"
        },
        "id": "PxvIImmbiye4",
        "outputId": "848aad04-cfba-4215-bb5b-39fb09a30835"
      },
      "execution_count": 33,
      "outputs": [
        {
          "output_type": "stream",
          "name": "stdout",
          "text": [
            "Price-to-Earnings Ratio (P/E Ratio) for AAPL: 25.751553\n"
          ]
        }
      ]
    },
    {
      "cell_type": "markdown",
      "source": [
        "### **Question 7**. [Exploratory] Time-driven strategy description around earnings releases\n",
        "Free text answer\n",
        "\n",
        "Explore earning dates for the whole month of April - e.g. using YahooFinance earnings calendar (https://finance.yahoo.com/calendar/earnings?from=2024-04-21&to=2024-04-27&day=2024-04-23). Compare with the previous closed earnings (e.g., recent dates with full data https://finance.yahoo.com/calendar/earnings?from=2024-04-07&to=2024-04-13&day=2024-04-08).\n",
        "\n",
        "Describe an analytical strategy/idea (you're not required to implement it) to select a subset companies of interest based on the future events data."
      ],
      "metadata": {
        "id": "xBG6qQE_lMAF"
      }
    },
    {
      "cell_type": "markdown",
      "source": [
        "#### *Answer*"
      ],
      "metadata": {
        "id": "XjGq5BZFmT-E"
      }
    },
    {
      "cell_type": "markdown",
      "source": [
        "I would prefer to scrap this information using python."
      ],
      "metadata": {
        "id": "xXbUjjilmYsp"
      }
    },
    {
      "cell_type": "code",
      "source": [
        "import requests\n",
        "from bs4 import BeautifulSoup"
      ],
      "metadata": {
        "id": "qKejBKAAmlw-"
      },
      "execution_count": 32,
      "outputs": []
    },
    {
      "cell_type": "code",
      "source": [
        "def get_earnings_calendar_data(url):\n",
        "    # Send a GET request to the URL\n",
        "    response = requests.get(url)\n",
        "\n",
        "    # Check if the request was successful\n",
        "    if response.status_code == 200:\n",
        "        # Parse the HTML content of the webpage\n",
        "        soup = BeautifulSoup(response.content, 'html.parser')\n",
        "\n",
        "        # Find the table containing earnings data\n",
        "        table = soup.find('table', {'class': 'W(100%)'})\n",
        "\n",
        "        # Extract data from the table\n",
        "        # You'll need to inspect the HTML structure to extract the specific data you want\n",
        "        earnings_data = []\n",
        "        rows = table.find_all('tr')\n",
        "        for row in rows[1:]:  # Skip the header row\n",
        "            cells = row.find_all('td')\n",
        "            symbol = cells[0].text.strip()\n",
        "            company_name = cells[1].text.strip()\n",
        "            earning_period = cells[2].text.strip()\n",
        "            four = cells[3].text.strip()\n",
        "            earnings_data.append({'Stock': symbol, 'Company': company_name, 'Earning Period': earning_period})\n",
        "        return earnings_data\n",
        "    else:\n",
        "        print('Failed to retrieve data from the webpage.')\n",
        "        return None"
      ],
      "metadata": {
        "id": "5JiImYw4ms1a"
      },
      "execution_count": 33,
      "outputs": []
    },
    {
      "cell_type": "code",
      "source": [
        "# URLs for the earnings calendars\n",
        "april_earnings_url = 'https://finance.yahoo.com/calendar/earnings?from=2024-04-01&to=2024-04-30'\n",
        "previous_closed_earnings_url = 'https://finance.yahoo.com/calendar/earnings?from=2024-03-25&to=2024-03-31'"
      ],
      "metadata": {
        "id": "tQ2WQnOp7iFT"
      },
      "execution_count": 34,
      "outputs": []
    },
    {
      "cell_type": "code",
      "source": [
        "# Scrape earnings data for April earnings\n",
        "april_earnings_data = get_earnings_calendar_data(april_earnings_url)\n",
        "\n",
        "# Scrape earnings data for previous closed earnings\n",
        "previous_closed_earnings_data = get_earnings_calendar_data(previous_closed_earnings_url)\n",
        "\n",
        "# Print the extracted data\n",
        "print('Earnings Calendar for April:')\n",
        "for entry in april_earnings_data:\n",
        "    print(entry)\n",
        "\n",
        "print('\\nPrevious Closed Earnings:')\n",
        "for entry in previous_closed_earnings_data:\n",
        "    print(entry)"
      ],
      "metadata": {
        "colab": {
          "base_uri": "https://localhost:8080/"
        },
        "id": "QOL0bqpgl2lW",
        "outputId": "62018cf2-bdf1-49ee-d851-1598cf22db26"
      },
      "execution_count": 35,
      "outputs": [
        {
          "output_type": "stream",
          "name": "stdout",
          "text": [
            "Earnings Calendar for April:\n",
            "{'Stock': 'CATV', 'Company': '4Cable TV International Inc', 'Earning Period': 'Q4 2023  Earnings Release'}\n",
            "{'Stock': 'INLB', 'Company': 'Item 9 Labs Corp', 'Earning Period': 'Q4 2023  Earnings Release'}\n",
            "{'Stock': 'INLB', 'Company': 'Item 9 Labs Corp', 'Earning Period': 'Q1 2024  Earnings Release'}\n",
            "{'Stock': 'AWF', 'Company': 'AllianceBernstein Global High Income Fund Inc', 'Earning Period': 'Q1 2024  Earnings Release'}\n",
            "{'Stock': 'DMKPQ', 'Company': 'Adamis Pharmaceuticals Corp', 'Earning Period': 'Q4 2023 DMK Pharmaceuticals Corp Earnings Release'}\n",
            "{'Stock': 'ARHTF', 'Company': 'ARHT Media Inc', 'Earning Period': 'Q4 2023  Earnings Release'}\n",
            "{'Stock': 'ARVLF', 'Company': 'Arrival SA', 'Earning Period': 'Q4 2023  Earnings Release'}\n",
            "{'Stock': 'WAL', 'Company': 'Western Alliance Bancorp', 'Earning Period': 'Q1 2024  Earnings Call'}\n",
            "{'Stock': 'BLX', 'Company': 'Foreign Trade Bank of Latin America Inc', 'Earning Period': 'Q1 2024  Earnings Call'}\n",
            "{'Stock': 'PINE', 'Company': 'Alpine Income Property Trust Inc', 'Earning Period': 'Q1 2024  Earnings Call'}\n",
            "{'Stock': 'AEYGQ', 'Company': 'ADDvantage Technologies Group Inc', 'Earning Period': 'Q4 2023  Earnings Release'}\n",
            "{'Stock': 'EESE', 'Company': 'Energy and Environmental Services Inc', 'Earning Period': 'Q4 2023  Earnings Release'}\n",
            "{'Stock': 'WRN', 'Company': 'Western Copper and Gold Corp', 'Earning Period': 'Q4 2023  Earnings Release'}\n",
            "{'Stock': 'ACRHF', 'Company': 'Acreage Holdings Inc', 'Earning Period': 'Q4 2023  Earnings Release'}\n",
            "{'Stock': 'HGAS', 'Company': 'Dune Acquisition Corp', 'Earning Period': 'Q4 2023 Global Gas Corp Earnings Release'}\n",
            "{'Stock': 'AAIRF', 'Company': 'American Aires Inc', 'Earning Period': 'Q1 2024  Earnings Release'}\n",
            "{'Stock': 'ACU', 'Company': 'Acme United Corp', 'Earning Period': 'Q1 2024  Earnings Release'}\n",
            "{'Stock': 'ACU', 'Company': 'Acme United Corp', 'Earning Period': 'Q1 2024  Earnings Call'}\n",
            "{'Stock': 'AURWF', 'Company': 'Aurwest Resources Corp', 'Earning Period': 'Q4 2023  Earnings Release'}\n",
            "{'Stock': 'FMBL', 'Company': 'Farmers And Merchants Bank of Long Beach', 'Earning Period': 'Q1 2024  Earnings Release'}\n",
            "{'Stock': 'VIVXF', 'Company': 'Avivagen Inc', 'Earning Period': 'Q1 2024  Earnings Release'}\n",
            "{'Stock': 'SIGL', 'Company': 'Signal Advance Inc', 'Earning Period': 'Q1 2024  Earnings Release'}\n",
            "{'Stock': 'AXP', 'Company': 'American Express Co', 'Earning Period': 'Q1 2024  Earnings Call'}\n",
            "{'Stock': 'GAHC', 'Company': 'Global Arena Holding Inc', 'Earning Period': 'Q4 2023  Earnings Release'}\n",
            "{'Stock': 'USAP', 'Company': 'Universal Stainless & Alloy Products Inc', 'Earning Period': 'Q1 2024  Earnings Release'}\n",
            "{'Stock': 'AWLIF', 'Company': 'Ameriwest Lithium Inc', 'Earning Period': 'Q3 2023  Earnings Release'}\n",
            "{'Stock': 'TOBAF', 'Company': 'TAAT Global Alternatives Inc', 'Earning Period': 'Q1 2024  Earnings Release'}\n",
            "{'Stock': 'AXP', 'Company': 'American Express Co', 'Earning Period': 'Q1 2024  Earnings Release'}\n",
            "{'Stock': 'VSAC', 'Company': 'Vision Sensing Acquisition Corp', 'Earning Period': 'Q4 2024  Earnings Release'}\n",
            "{'Stock': 'ATHXQ', 'Company': 'Athersys Inc', 'Earning Period': 'Q4 2023  Earnings Release'}\n",
            "{'Stock': 'NTRP', 'Company': 'Sigma Additive Solutions Inc', 'Earning Period': 'Q4 2023 NextTrip Inc Earnings Release'}\n",
            "{'Stock': 'IONM', 'Company': 'Assure Holdings Corp', 'Earning Period': 'Q4 2023  Earnings Release'}\n",
            "{'Stock': 'APGT', 'Company': 'Appgate Inc', 'Earning Period': 'Q4 2023  Earnings Release'}\n",
            "{'Stock': 'FDBC', 'Company': 'Fidelity D&D Bancorp Inc', 'Earning Period': 'Q1 2024  Earnings Release'}\n",
            "{'Stock': 'PCB', 'Company': 'PCB Bancorp', 'Earning Period': 'Q1 2024  Earnings Release'}\n",
            "{'Stock': 'BEDU', 'Company': 'Bright Scholar Education Holdings Ltd', 'Earning Period': 'Q2 2024  Earnings Call'}\n",
            "{'Stock': 'BIVI', 'Company': 'Biovie Inc', 'Earning Period': 'Q2 2024 BioVie Inc Earnings Release'}\n",
            "{'Stock': 'GCBC', 'Company': 'Greene County Bancorp Inc', 'Earning Period': 'Q3 2024  Earnings Release'}\n",
            "{'Stock': 'FCBC', 'Company': 'First Community Bankshares Inc', 'Earning Period': 'Q1 2024  Earnings Release'}\n",
            "{'Stock': 'HBPCF', 'Company': 'Helix Biopharma Corp', 'Earning Period': 'Q2 2024  Earnings Release'}\n",
            "{'Stock': 'BEDU', 'Company': 'Bright Scholar Education Holdings Ltd', 'Earning Period': 'Q2 2024  Earnings Release'}\n",
            "{'Stock': 'INDB', 'Company': 'Independent Bank Corp (Massachusetts)', 'Earning Period': 'Q1 2024  Earnings Call'}\n",
            "{'Stock': 'WRIV', 'Company': 'White River Bancshares Co', 'Earning Period': 'Q1 2024  Earnings Release'}\n",
            "{'Stock': 'VGANF', 'Company': 'Happy Belly Food Group Inc', 'Earning Period': 'Q4 2023  Earnings Release'}\n",
            "{'Stock': 'BIOQ', 'Company': 'Bioqual Inc', 'Earning Period': 'Q3 2024  Earnings Release'}\n",
            "{'Stock': 'HBAN', 'Company': 'Huntington Bancshares Inc', 'Earning Period': 'Q1 2024  Earnings Call'}\n",
            "{'Stock': 'ELBM', 'Company': 'Electra Battery Materials Corp', 'Earning Period': 'Q4 2023  Earnings Release'}\n",
            "{'Stock': 'HBAN', 'Company': 'Huntington Bancshares Inc', 'Earning Period': 'Q1 2024  Earnings Release'}\n",
            "{'Stock': 'QBIO', 'Company': 'Q BioMed Inc', 'Earning Period': 'Q3 2023  Earnings Release'}\n",
            "{'Stock': 'BOTJ', 'Company': 'Bank of the James', 'Earning Period': 'Q1 2024  Earnings Release'}\n",
            "{'Stock': 'BCEKF', 'Company': 'Bear Creek Mining Corp', 'Earning Period': 'Q4 2023  Earnings Release'}\n",
            "{'Stock': 'LBAI', 'Company': 'Lakeland Bancorp Inc', 'Earning Period': 'Q1 2024  Earnings Release'}\n",
            "{'Stock': 'BRDSQ', 'Company': 'Bird Global Inc', 'Earning Period': 'Q4 2023  Earnings Release'}\n",
            "{'Stock': 'UBOH', 'Company': 'United Bancshares Inc', 'Earning Period': 'Q1 2024  Earnings Release'}\n",
            "{'Stock': 'FMAO', 'Company': 'Farmers & Merchants Bancorp Inc', 'Earning Period': 'Q1 2024  Earnings Release'}\n",
            "{'Stock': 'PBIO', 'Company': 'Pressure Biosciences Inc', 'Earning Period': 'Q4 2023  Earnings Release'}\n",
            "{'Stock': 'FITB', 'Company': 'Fifth Third Bancorp', 'Earning Period': 'Q1 2024  Earnings Release'}\n",
            "{'Stock': 'FITB', 'Company': 'Fifth Third Bancorp', 'Earning Period': 'Q1 2024  Earnings Call'}\n",
            "{'Stock': 'VABK', 'Company': 'Virginia National Bankshares Corp', 'Earning Period': 'Q1 2024  Earnings Release'}\n",
            "{'Stock': 'BTVRF', 'Company': 'BlueRush Inc', 'Earning Period': 'Q3 2024  Earnings Release'}\n",
            "{'Stock': 'EVLO', 'Company': 'Evelo Biosciences Inc', 'Earning Period': 'Q4 2023  Earnings Release'}\n",
            "{'Stock': 'OVLY', 'Company': 'Oak Valley Bancorp', 'Earning Period': 'Q1 2024  Earnings Release'}\n",
            "{'Stock': 'GBCI', 'Company': 'Glacier Bancorp Inc', 'Earning Period': 'Q1 2024  Earnings Call'}\n",
            "{'Stock': 'MNMB', 'Company': 'Merchants & Marine Bancorp Inc', 'Earning Period': 'Q1 2024  Earnings Release'}\n",
            "{'Stock': 'MCBS', 'Company': 'Metrocity Bankshares Inc', 'Earning Period': 'Q1 2024  Earnings Release'}\n",
            "{'Stock': 'BYSI', 'Company': 'BeyondSpring Inc', 'Earning Period': 'Full Year 2023 Beyondspring Inc Earnings Release'}\n",
            "{'Stock': 'BYSI', 'Company': 'BeyondSpring Inc', 'Earning Period': 'Q2 2023 Beyondspring Inc Earnings Release'}\n",
            "{'Stock': 'CCBC', 'Company': 'Chino Commercial Bancorp', 'Earning Period': 'Q1 2024  Earnings Release'}\n",
            "{'Stock': 'EWOOF', 'Company': 'Eastwood Bio-Medical Canada Inc', 'Earning Period': 'Q1 2024  Earnings Release'}\n",
            "{'Stock': 'RBCAA', 'Company': 'Republic Bancorp Inc', 'Earning Period': 'Q1 2024  Earnings Release'}\n",
            "{'Stock': 'MCB', 'Company': 'Metropolitan Bank Holding Corp', 'Earning Period': 'Q1 2024  Earnings Call'}\n",
            "{'Stock': 'BKRRF', 'Company': 'Blackrock Silver Corp', 'Earning Period': 'Q1 2024  Earnings Release'}\n",
            "{'Stock': 'BSPK', 'Company': 'Bespoke Extracts Inc', 'Earning Period': 'Q4 2023  Earnings Release'}\n",
            "{'Stock': 'CMUV', 'Company': 'Community Valley Bank', 'Earning Period': 'Q1 2024  Earnings Release'}\n",
            "{'Stock': 'FLLZ', 'Company': 'Fellazo Corp', 'Earning Period': 'Q2 2024  Earnings Release'}\n",
            "{'Stock': 'MDSQF', 'Company': 'Minsud Resources Corp', 'Earning Period': 'Q4 2023  Earnings Release'}\n",
            "{'Stock': 'PG', 'Company': 'Procter & Gamble Co', 'Earning Period': 'Q3 2024  Earnings Call'}\n",
            "{'Stock': 'PG', 'Company': 'Procter & Gamble Co', 'Earning Period': 'Q3 2024  Earnings Release'}\n",
            "{'Stock': 'OCFC', 'Company': 'OceanFirst Financial Corp', 'Earning Period': 'Q1 2024  Earnings Call'}\n",
            "{'Stock': 'LQWC', 'Company': 'Lifequest World Corp', 'Earning Period': 'Q3 2023 LifeQuest World Corp Earnings Release'}\n",
            "{'Stock': 'HERTF', 'Company': 'Heritage Cannabis Holdings Corp', 'Earning Period': 'Q1 2024  Earnings Release'}\n",
            "{'Stock': 'SMID', 'Company': 'Smith-Midland Corp', 'Earning Period': 'Q4 2023  Earnings Release'}\n",
            "{'Stock': 'THFF', 'Company': 'First Financial Corp', 'Earning Period': 'Q1 2024  Earnings Release'}\n",
            "{'Stock': 'AVRW', 'Company': 'Cure Pharmaceutical Holding Corp', 'Earning Period': 'Q4 2023 Avenir Wellness Solutions Inc Earnings Release'}\n",
            "{'Stock': 'CWBR', 'Company': 'CohBar Inc', 'Earning Period': 'Q4 2023  Earnings Release'}\n",
            "{'Stock': 'CWBR', 'Company': 'CohBar Inc', 'Earning Period': 'Q3 2023  Earnings Release'}\n",
            "{'Stock': 'CRTD', 'Company': 'Creatd Inc', 'Earning Period': 'Q4 2023  Earnings Release'}\n",
            "{'Stock': 'SNPW', 'Company': 'Sun Pacific Holding Corp', 'Earning Period': 'Q4 2023  Earnings Release'}\n",
            "{'Stock': 'AGCCF', 'Company': 'Gensource Potash Corp', 'Earning Period': 'Q4 2023  Earnings Release'}\n",
            "{'Stock': 'FAVO', 'Company': 'Favo Capital Inc', 'Earning Period': 'Q4 2023  Earnings Release'}\n",
            "{'Stock': 'CDTX', 'Company': 'Cidara Therapeutics Inc', 'Earning Period': 'Q4 2023  Earnings Release'}\n",
            "{'Stock': 'COSM', 'Company': 'Cosmos Holdings Inc', 'Earning Period': 'Q4 2023 Cosmos Health Inc Earnings Release'}\n",
            "{'Stock': 'NWFL', 'Company': 'Norwood Financial Corp', 'Earning Period': 'Q1 2024  Earnings Release'}\n",
            "{'Stock': 'RF', 'Company': 'Regions Financial Corp', 'Earning Period': 'Q1 2024  Earnings Call'}\n",
            "{'Stock': 'IGEN', 'Company': 'IGEN Networks Corp', 'Earning Period': 'Q4 2023  Earnings Release'}\n",
            "{'Stock': 'NRGOF', 'Company': 'Newrange Gold Corp', 'Earning Period': 'Q3 2024  Earnings Release'}\n",
            "{'Stock': 'PVSP', 'Company': 'Pervasip Corp', 'Earning Period': 'Q1 2024  Earnings Release'}\n",
            "{'Stock': 'CNPOF', 'Company': 'RIV Capital Inc', 'Earning Period': 'Q3 2024  Earnings Release'}\n",
            "{'Stock': 'PDNLB', 'Company': 'Presidential Realty Corp', 'Earning Period': 'Q4 2023  Earnings Release'}\n",
            "{'Stock': 'SICP', 'Company': 'Silvergate Capital Corp', 'Earning Period': 'Q4 2023  Earnings Release'}\n",
            "\n",
            "Previous Closed Earnings:\n",
            "{'Stock': 'CATV', 'Company': '4Cable TV International Inc', 'Earning Period': 'Q4 2023  Earnings Release'}\n",
            "{'Stock': 'INLB', 'Company': 'Item 9 Labs Corp', 'Earning Period': 'Q4 2023  Earnings Release'}\n",
            "{'Stock': 'INLB', 'Company': 'Item 9 Labs Corp', 'Earning Period': 'Q1 2024  Earnings Release'}\n",
            "{'Stock': 'AWF', 'Company': 'AllianceBernstein Global High Income Fund Inc', 'Earning Period': 'Q1 2024  Earnings Release'}\n",
            "{'Stock': 'DMKPQ', 'Company': 'Adamis Pharmaceuticals Corp', 'Earning Period': 'Q4 2023 DMK Pharmaceuticals Corp Earnings Release'}\n",
            "{'Stock': 'ARHTF', 'Company': 'ARHT Media Inc', 'Earning Period': 'Q4 2023  Earnings Release'}\n",
            "{'Stock': 'ARVLF', 'Company': 'Arrival SA', 'Earning Period': 'Q4 2023  Earnings Release'}\n",
            "{'Stock': 'WAL', 'Company': 'Western Alliance Bancorp', 'Earning Period': 'Q1 2024  Earnings Call'}\n",
            "{'Stock': 'BLX', 'Company': 'Foreign Trade Bank of Latin America Inc', 'Earning Period': 'Q1 2024  Earnings Call'}\n",
            "{'Stock': 'PINE', 'Company': 'Alpine Income Property Trust Inc', 'Earning Period': 'Q1 2024  Earnings Call'}\n",
            "{'Stock': 'AEYGQ', 'Company': 'ADDvantage Technologies Group Inc', 'Earning Period': 'Q4 2023  Earnings Release'}\n",
            "{'Stock': 'EESE', 'Company': 'Energy and Environmental Services Inc', 'Earning Period': 'Q4 2023  Earnings Release'}\n",
            "{'Stock': 'WRN', 'Company': 'Western Copper and Gold Corp', 'Earning Period': 'Q4 2023  Earnings Release'}\n",
            "{'Stock': 'ACRHF', 'Company': 'Acreage Holdings Inc', 'Earning Period': 'Q4 2023  Earnings Release'}\n",
            "{'Stock': 'HGAS', 'Company': 'Dune Acquisition Corp', 'Earning Period': 'Q4 2023 Global Gas Corp Earnings Release'}\n",
            "{'Stock': 'AAIRF', 'Company': 'American Aires Inc', 'Earning Period': 'Q1 2024  Earnings Release'}\n",
            "{'Stock': 'ACU', 'Company': 'Acme United Corp', 'Earning Period': 'Q1 2024  Earnings Release'}\n",
            "{'Stock': 'ACU', 'Company': 'Acme United Corp', 'Earning Period': 'Q1 2024  Earnings Call'}\n",
            "{'Stock': 'AURWF', 'Company': 'Aurwest Resources Corp', 'Earning Period': 'Q4 2023  Earnings Release'}\n",
            "{'Stock': 'FMBL', 'Company': 'Farmers And Merchants Bank of Long Beach', 'Earning Period': 'Q1 2024  Earnings Release'}\n",
            "{'Stock': 'VIVXF', 'Company': 'Avivagen Inc', 'Earning Period': 'Q1 2024  Earnings Release'}\n",
            "{'Stock': 'SIGL', 'Company': 'Signal Advance Inc', 'Earning Period': 'Q1 2024  Earnings Release'}\n",
            "{'Stock': 'AXP', 'Company': 'American Express Co', 'Earning Period': 'Q1 2024  Earnings Call'}\n",
            "{'Stock': 'GAHC', 'Company': 'Global Arena Holding Inc', 'Earning Period': 'Q4 2023  Earnings Release'}\n",
            "{'Stock': 'USAP', 'Company': 'Universal Stainless & Alloy Products Inc', 'Earning Period': 'Q1 2024  Earnings Release'}\n",
            "{'Stock': 'AWLIF', 'Company': 'Ameriwest Lithium Inc', 'Earning Period': 'Q3 2023  Earnings Release'}\n",
            "{'Stock': 'TOBAF', 'Company': 'TAAT Global Alternatives Inc', 'Earning Period': 'Q1 2024  Earnings Release'}\n",
            "{'Stock': 'AXP', 'Company': 'American Express Co', 'Earning Period': 'Q1 2024  Earnings Release'}\n",
            "{'Stock': 'VSAC', 'Company': 'Vision Sensing Acquisition Corp', 'Earning Period': 'Q4 2024  Earnings Release'}\n",
            "{'Stock': 'ATHXQ', 'Company': 'Athersys Inc', 'Earning Period': 'Q4 2023  Earnings Release'}\n",
            "{'Stock': 'NTRP', 'Company': 'Sigma Additive Solutions Inc', 'Earning Period': 'Q4 2023 NextTrip Inc Earnings Release'}\n",
            "{'Stock': 'IONM', 'Company': 'Assure Holdings Corp', 'Earning Period': 'Q4 2023  Earnings Release'}\n",
            "{'Stock': 'APGT', 'Company': 'Appgate Inc', 'Earning Period': 'Q4 2023  Earnings Release'}\n",
            "{'Stock': 'FDBC', 'Company': 'Fidelity D&D Bancorp Inc', 'Earning Period': 'Q1 2024  Earnings Release'}\n",
            "{'Stock': 'PCB', 'Company': 'PCB Bancorp', 'Earning Period': 'Q1 2024  Earnings Release'}\n",
            "{'Stock': 'BEDU', 'Company': 'Bright Scholar Education Holdings Ltd', 'Earning Period': 'Q2 2024  Earnings Call'}\n",
            "{'Stock': 'BIVI', 'Company': 'Biovie Inc', 'Earning Period': 'Q2 2024 BioVie Inc Earnings Release'}\n",
            "{'Stock': 'GCBC', 'Company': 'Greene County Bancorp Inc', 'Earning Period': 'Q3 2024  Earnings Release'}\n",
            "{'Stock': 'FCBC', 'Company': 'First Community Bankshares Inc', 'Earning Period': 'Q1 2024  Earnings Release'}\n",
            "{'Stock': 'HBPCF', 'Company': 'Helix Biopharma Corp', 'Earning Period': 'Q2 2024  Earnings Release'}\n",
            "{'Stock': 'BEDU', 'Company': 'Bright Scholar Education Holdings Ltd', 'Earning Period': 'Q2 2024  Earnings Release'}\n",
            "{'Stock': 'INDB', 'Company': 'Independent Bank Corp (Massachusetts)', 'Earning Period': 'Q1 2024  Earnings Call'}\n",
            "{'Stock': 'WRIV', 'Company': 'White River Bancshares Co', 'Earning Period': 'Q1 2024  Earnings Release'}\n",
            "{'Stock': 'VGANF', 'Company': 'Happy Belly Food Group Inc', 'Earning Period': 'Q4 2023  Earnings Release'}\n",
            "{'Stock': 'BIOQ', 'Company': 'Bioqual Inc', 'Earning Period': 'Q3 2024  Earnings Release'}\n",
            "{'Stock': 'HBAN', 'Company': 'Huntington Bancshares Inc', 'Earning Period': 'Q1 2024  Earnings Call'}\n",
            "{'Stock': 'ELBM', 'Company': 'Electra Battery Materials Corp', 'Earning Period': 'Q4 2023  Earnings Release'}\n",
            "{'Stock': 'HBAN', 'Company': 'Huntington Bancshares Inc', 'Earning Period': 'Q1 2024  Earnings Release'}\n",
            "{'Stock': 'QBIO', 'Company': 'Q BioMed Inc', 'Earning Period': 'Q3 2023  Earnings Release'}\n",
            "{'Stock': 'BOTJ', 'Company': 'Bank of the James', 'Earning Period': 'Q1 2024  Earnings Release'}\n",
            "{'Stock': 'BCEKF', 'Company': 'Bear Creek Mining Corp', 'Earning Period': 'Q4 2023  Earnings Release'}\n",
            "{'Stock': 'LBAI', 'Company': 'Lakeland Bancorp Inc', 'Earning Period': 'Q1 2024  Earnings Release'}\n",
            "{'Stock': 'BRDSQ', 'Company': 'Bird Global Inc', 'Earning Period': 'Q4 2023  Earnings Release'}\n",
            "{'Stock': 'UBOH', 'Company': 'United Bancshares Inc', 'Earning Period': 'Q1 2024  Earnings Release'}\n",
            "{'Stock': 'FMAO', 'Company': 'Farmers & Merchants Bancorp Inc', 'Earning Period': 'Q1 2024  Earnings Release'}\n",
            "{'Stock': 'PBIO', 'Company': 'Pressure Biosciences Inc', 'Earning Period': 'Q4 2023  Earnings Release'}\n",
            "{'Stock': 'FITB', 'Company': 'Fifth Third Bancorp', 'Earning Period': 'Q1 2024  Earnings Release'}\n",
            "{'Stock': 'FITB', 'Company': 'Fifth Third Bancorp', 'Earning Period': 'Q1 2024  Earnings Call'}\n",
            "{'Stock': 'VABK', 'Company': 'Virginia National Bankshares Corp', 'Earning Period': 'Q1 2024  Earnings Release'}\n",
            "{'Stock': 'BTVRF', 'Company': 'BlueRush Inc', 'Earning Period': 'Q3 2024  Earnings Release'}\n",
            "{'Stock': 'EVLO', 'Company': 'Evelo Biosciences Inc', 'Earning Period': 'Q4 2023  Earnings Release'}\n",
            "{'Stock': 'OVLY', 'Company': 'Oak Valley Bancorp', 'Earning Period': 'Q1 2024  Earnings Release'}\n",
            "{'Stock': 'GBCI', 'Company': 'Glacier Bancorp Inc', 'Earning Period': 'Q1 2024  Earnings Call'}\n",
            "{'Stock': 'MNMB', 'Company': 'Merchants & Marine Bancorp Inc', 'Earning Period': 'Q1 2024  Earnings Release'}\n",
            "{'Stock': 'MCBS', 'Company': 'Metrocity Bankshares Inc', 'Earning Period': 'Q1 2024  Earnings Release'}\n",
            "{'Stock': 'BYSI', 'Company': 'BeyondSpring Inc', 'Earning Period': 'Full Year 2023 Beyondspring Inc Earnings Release'}\n",
            "{'Stock': 'BYSI', 'Company': 'BeyondSpring Inc', 'Earning Period': 'Q2 2023 Beyondspring Inc Earnings Release'}\n",
            "{'Stock': 'CCBC', 'Company': 'Chino Commercial Bancorp', 'Earning Period': 'Q1 2024  Earnings Release'}\n",
            "{'Stock': 'EWOOF', 'Company': 'Eastwood Bio-Medical Canada Inc', 'Earning Period': 'Q1 2024  Earnings Release'}\n",
            "{'Stock': 'RBCAA', 'Company': 'Republic Bancorp Inc', 'Earning Period': 'Q1 2024  Earnings Release'}\n",
            "{'Stock': 'MCB', 'Company': 'Metropolitan Bank Holding Corp', 'Earning Period': 'Q1 2024  Earnings Call'}\n",
            "{'Stock': 'BKRRF', 'Company': 'Blackrock Silver Corp', 'Earning Period': 'Q1 2024  Earnings Release'}\n",
            "{'Stock': 'BSPK', 'Company': 'Bespoke Extracts Inc', 'Earning Period': 'Q4 2023  Earnings Release'}\n",
            "{'Stock': 'CMUV', 'Company': 'Community Valley Bank', 'Earning Period': 'Q1 2024  Earnings Release'}\n",
            "{'Stock': 'FLLZ', 'Company': 'Fellazo Corp', 'Earning Period': 'Q2 2024  Earnings Release'}\n",
            "{'Stock': 'MDSQF', 'Company': 'Minsud Resources Corp', 'Earning Period': 'Q4 2023  Earnings Release'}\n",
            "{'Stock': 'PG', 'Company': 'Procter & Gamble Co', 'Earning Period': 'Q3 2024  Earnings Call'}\n",
            "{'Stock': 'PG', 'Company': 'Procter & Gamble Co', 'Earning Period': 'Q3 2024  Earnings Release'}\n",
            "{'Stock': 'OCFC', 'Company': 'OceanFirst Financial Corp', 'Earning Period': 'Q1 2024  Earnings Call'}\n",
            "{'Stock': 'LQWC', 'Company': 'Lifequest World Corp', 'Earning Period': 'Q3 2023 LifeQuest World Corp Earnings Release'}\n",
            "{'Stock': 'HERTF', 'Company': 'Heritage Cannabis Holdings Corp', 'Earning Period': 'Q1 2024  Earnings Release'}\n",
            "{'Stock': 'SMID', 'Company': 'Smith-Midland Corp', 'Earning Period': 'Q4 2023  Earnings Release'}\n",
            "{'Stock': 'THFF', 'Company': 'First Financial Corp', 'Earning Period': 'Q1 2024  Earnings Release'}\n",
            "{'Stock': 'AVRW', 'Company': 'Cure Pharmaceutical Holding Corp', 'Earning Period': 'Q4 2023 Avenir Wellness Solutions Inc Earnings Release'}\n",
            "{'Stock': 'CWBR', 'Company': 'CohBar Inc', 'Earning Period': 'Q4 2023  Earnings Release'}\n",
            "{'Stock': 'CWBR', 'Company': 'CohBar Inc', 'Earning Period': 'Q3 2023  Earnings Release'}\n",
            "{'Stock': 'CRTD', 'Company': 'Creatd Inc', 'Earning Period': 'Q4 2023  Earnings Release'}\n",
            "{'Stock': 'SNPW', 'Company': 'Sun Pacific Holding Corp', 'Earning Period': 'Q4 2023  Earnings Release'}\n",
            "{'Stock': 'AGCCF', 'Company': 'Gensource Potash Corp', 'Earning Period': 'Q4 2023  Earnings Release'}\n",
            "{'Stock': 'FAVO', 'Company': 'Favo Capital Inc', 'Earning Period': 'Q4 2023  Earnings Release'}\n",
            "{'Stock': 'CDTX', 'Company': 'Cidara Therapeutics Inc', 'Earning Period': 'Q4 2023  Earnings Release'}\n",
            "{'Stock': 'COSM', 'Company': 'Cosmos Holdings Inc', 'Earning Period': 'Q4 2023 Cosmos Health Inc Earnings Release'}\n",
            "{'Stock': 'NWFL', 'Company': 'Norwood Financial Corp', 'Earning Period': 'Q1 2024  Earnings Release'}\n",
            "{'Stock': 'RF', 'Company': 'Regions Financial Corp', 'Earning Period': 'Q1 2024  Earnings Call'}\n",
            "{'Stock': 'IGEN', 'Company': 'IGEN Networks Corp', 'Earning Period': 'Q4 2023  Earnings Release'}\n",
            "{'Stock': 'NRGOF', 'Company': 'Newrange Gold Corp', 'Earning Period': 'Q3 2024  Earnings Release'}\n",
            "{'Stock': 'PVSP', 'Company': 'Pervasip Corp', 'Earning Period': 'Q1 2024  Earnings Release'}\n",
            "{'Stock': 'CNPOF', 'Company': 'RIV Capital Inc', 'Earning Period': 'Q3 2024  Earnings Release'}\n",
            "{'Stock': 'PDNLB', 'Company': 'Presidential Realty Corp', 'Earning Period': 'Q4 2023  Earnings Release'}\n",
            "{'Stock': 'SICP', 'Company': 'Silvergate Capital Corp', 'Earning Period': 'Q4 2023  Earnings Release'}\n"
          ]
        }
      ]
    },
    {
      "cell_type": "markdown",
      "source": [
        "An analytical strategy around earnings releases can involve several steps to select a subset of companies based on future events data. Here's a description of such a strategy:\n",
        "\n",
        "\n",
        "**Analytical Approach**:\n",
        "\n",
        "Compare the upcoming earnings dates with the historical earnings data to identify patterns and trends.\n",
        "\n",
        "\n",
        "**Selection Criteria**:\n",
        "\n",
        "\n",
        "Incorporate financial ratios like Price-to-Earnings (P/E) ratio, Price-to-Sales (P/S) ratio, and Debt-to-Equity (D/E) ratio to evaluate the financial health of companies.\n",
        "\n",
        "\n",
        "**Risk Management**:\n",
        "\n",
        "Implement risk management strategies by diversifying the portfolio across sectors and market capitalizations.\n",
        "Set stop-loss levels and profit targets based on historical volatility and risk tolerance.\n",
        "\n",
        "\n",
        "**Monitoring and Adjustment**:\n",
        "\n",
        "Continuously monitor news and market sentiment related to selected companies.\n",
        "Adjust the portfolio based on new earnings releases, market trends, and economic indicators.\n",
        "Consider incorporating machine learning models or predictive analytics to enhance decision-making and automate the selection process."
      ],
      "metadata": {
        "id": "D4P_zeQAjb2F"
      }
    }
  ]
}